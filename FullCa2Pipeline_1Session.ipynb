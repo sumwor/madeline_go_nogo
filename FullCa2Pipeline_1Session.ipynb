{
 "cells": [
  {
   "cell_type": "markdown",
   "metadata": {
    "collapsed": true
   },
   "source": [
    "## 1. Convert Behavioral Output File to Required Trial-by-Trial Format\n",
    "Here, we convert the behavioral data into a useable format, where each row of the DataFrame corresponds to a trial. This can then be aligned with Ca2+ data.\n",
    "### A. Setup"
   ]
  },
  {
   "cell_type": "code",
   "execution_count": 1,
   "outputs": [],
   "source": [
    "from behavior_base import *\n",
    "from behavioral_pipeline import GoNogoBehaviorMat\n",
    "import h5py\n",
    "import numpy as np\n",
    "import os"
   ],
   "metadata": {
    "collapsed": false
   }
  },
  {
   "cell_type": "code",
   "execution_count": 2,
   "metadata": {},
   "outputs": [
    {
     "data": {
      "text/plain": "<IPython.core.display.HTML object>",
      "text/html": "<style>.container { width:100% !important; }</style>"
     },
     "metadata": {},
     "output_type": "display_data"
    }
   ],
   "source": [
    "# to increase width of notebook display\n",
    "from IPython.display import display, HTML\n",
    "display(HTML(\"<style>.container { width:100% !important; }</style>\"))"
   ]
  },
  {
   "cell_type": "code",
   "execution_count": 3,
   "metadata": {},
   "outputs": [],
   "source": [
    "# Specify session to analyze\n",
    "animal = 'JUV015'\n",
    "session = '220409'"
   ]
  },
  {
   "cell_type": "code",
   "execution_count": 4,
   "metadata": {},
   "outputs": [
    {
     "data": {
      "text/plain": "<KeysViewHDF5 ['GoNG_EventTimes', 'directdelivery', 'frame_time', 'portside', 'recovered_frame_time', 'result', 'run_speed', 'schedule', 'sound_SPL', 'sound_dur', 'sound_freq', 'sound_name']>"
     },
     "execution_count": 4,
     "metadata": {},
     "output_type": "execute_result"
    }
   ],
   "source": [
    "# Grab file from server\n",
    "input_folder = \"C:\\\\Users\\\\hongl\\\\Documents\\\\GitHub\\\\madeline_go_nogo\\\\data\"\n",
    "input_file = \"JUV015_220409_behaviorLOG.mat\"\n",
    "hfile = h5py.File(os.path.join(input_folder, input_file), 'r')\n",
    "hfile['out'].keys() # prints trial variables"
   ]
  },
  {
   "cell_type": "code",
   "execution_count": 5,
   "metadata": {},
   "outputs": [],
   "source": [
    "# format trial events\n",
    "eventlist = EventNode(None, None, None, None)\n",
    "code_map = GoNogoBehaviorMat.code_map\n",
    "trial_events = np.array(hfile['out/GoNG_EventTimes'])"
   ]
  },
  {
   "cell_type": "code",
   "execution_count": 6,
   "metadata": {},
   "outputs": [
    {
     "name": "stdout",
     "output_type": "stream",
     "text": [
      "GoNG_EventTimes <HDF5 dataset \"GoNG_EventTimes\": shape (6573, 3), type \"<f8\">\n",
      "directdelivery <HDF5 dataset \"directdelivery\": shape (406, 1), type \"<f8\">\n",
      "frame_time <HDF5 dataset \"frame_time\": shape (1, 28987), type \"<f8\">\n",
      "portside <HDF5 dataset \"portside\": shape (406, 1), type \"<f8\">\n",
      "recovered_frame_time <HDF5 dataset \"recovered_frame_time\": shape (1, 28987), type \"<f8\">\n",
      "result <HDF5 dataset \"result\": shape (406, 1), type \"<f8\">\n",
      "run_speed <HDF5 dataset \"run_speed\": shape (7188, 2), type \"<f8\">\n",
      "schedule <HDF5 dataset \"schedule\": shape (406, 1), type \"<f8\">\n",
      "sound_SPL <HDF5 dataset \"sound_SPL\": shape (16, 1), type \"<f8\">\n",
      "sound_dur <HDF5 dataset \"sound_dur\": shape (16, 1), type \"<f8\">\n",
      "sound_freq <HDF5 dataset \"sound_freq\": shape (16, 1), type \"<f8\">\n",
      "sound_name <HDF5 dataset \"sound_name\": shape (16, 1), type \"|O\">\n"
     ]
    }
   ],
   "source": [
    "# find shapes and sizes of components of task\n",
    "for k in hfile['out']:\n",
    "    print(k, hfile['out'][k])"
   ]
  },
  {
   "cell_type": "markdown",
   "metadata": {},
   "source": [
    "### B. Generate TrialByTrial\n"
   ]
  },
  {
   "cell_type": "code",
   "execution_count": 7,
   "metadata": {},
   "outputs": [],
   "source": [
    "for i in range(len(trial_events)):\n",
    "    eventID, eventTime, trial = trial_events[i]\n",
    "    eventlist.append(EventNode(code_map[eventID][0] + '|' + code_map[eventID][1], eventTime, trial, eventID))"
   ]
  },
  {
   "cell_type": "code",
   "execution_count": 8,
   "metadata": {},
   "outputs": [
    {
     "data": {
      "text/plain": "                                 event        etime  trial  ecode\n0                           sound_on|4  1663.447028    1.0   7.04\n1                                in|in  1663.753360    1.0   3.00\n2                        water_valve|2  1663.755527    1.0   9.02\n3           outcome|go_correct_reward2  1663.755527    1.0  81.22\n4                              out|out  1663.774361    1.5   4.00\n...                                ...          ...    ...    ...\n6568                           out|out  5246.140705  404.5  44.00\n6569                        sound_on|8  5248.142023  405.0   7.08\n6570  outcome|no-go_correct_unrewarded  5251.392343  405.0  81.01\n6571                       sound_on|11  5255.571826  406.0   7.11\n6572                    outcome|missed  5258.574148  406.0  83.00\n\n[6573 rows x 4 columns]",
      "text/html": "<div>\n<style scoped>\n    .dataframe tbody tr th:only-of-type {\n        vertical-align: middle;\n    }\n\n    .dataframe tbody tr th {\n        vertical-align: top;\n    }\n\n    .dataframe thead th {\n        text-align: right;\n    }\n</style>\n<table border=\"1\" class=\"dataframe\">\n  <thead>\n    <tr style=\"text-align: right;\">\n      <th></th>\n      <th>event</th>\n      <th>etime</th>\n      <th>trial</th>\n      <th>ecode</th>\n    </tr>\n  </thead>\n  <tbody>\n    <tr>\n      <th>0</th>\n      <td>sound_on|4</td>\n      <td>1663.447028</td>\n      <td>1.0</td>\n      <td>7.04</td>\n    </tr>\n    <tr>\n      <th>1</th>\n      <td>in|in</td>\n      <td>1663.753360</td>\n      <td>1.0</td>\n      <td>3.00</td>\n    </tr>\n    <tr>\n      <th>2</th>\n      <td>water_valve|2</td>\n      <td>1663.755527</td>\n      <td>1.0</td>\n      <td>9.02</td>\n    </tr>\n    <tr>\n      <th>3</th>\n      <td>outcome|go_correct_reward2</td>\n      <td>1663.755527</td>\n      <td>1.0</td>\n      <td>81.22</td>\n    </tr>\n    <tr>\n      <th>4</th>\n      <td>out|out</td>\n      <td>1663.774361</td>\n      <td>1.5</td>\n      <td>4.00</td>\n    </tr>\n    <tr>\n      <th>...</th>\n      <td>...</td>\n      <td>...</td>\n      <td>...</td>\n      <td>...</td>\n    </tr>\n    <tr>\n      <th>6568</th>\n      <td>out|out</td>\n      <td>5246.140705</td>\n      <td>404.5</td>\n      <td>44.00</td>\n    </tr>\n    <tr>\n      <th>6569</th>\n      <td>sound_on|8</td>\n      <td>5248.142023</td>\n      <td>405.0</td>\n      <td>7.08</td>\n    </tr>\n    <tr>\n      <th>6570</th>\n      <td>outcome|no-go_correct_unrewarded</td>\n      <td>5251.392343</td>\n      <td>405.0</td>\n      <td>81.01</td>\n    </tr>\n    <tr>\n      <th>6571</th>\n      <td>sound_on|11</td>\n      <td>5255.571826</td>\n      <td>406.0</td>\n      <td>7.11</td>\n    </tr>\n    <tr>\n      <th>6572</th>\n      <td>outcome|missed</td>\n      <td>5258.574148</td>\n      <td>406.0</td>\n      <td>83.00</td>\n    </tr>\n  </tbody>\n</table>\n<p>6573 rows × 4 columns</p>\n</div>"
     },
     "execution_count": 8,
     "metadata": {},
     "output_type": "execute_result"
    }
   ],
   "source": [
    "eventlist.as_df() # shows what we consider \"events\" in each trial"
   ]
  },
  {
   "cell_type": "code",
   "execution_count": 9,
   "metadata": {},
   "outputs": [],
   "source": [
    "trialbytrial = GoNogoBehaviorMat(animal, session, os.path.join(input_folder, input_file));"
   ]
  },
  {
   "cell_type": "code",
   "execution_count": 10,
   "metadata": {},
   "outputs": [
    {
     "data": {
      "text/plain": "     animal session  trial        onset  first_lick_in  last_lick_out  \\\n0    JUV015  220409      1  1663.447028    1663.753360    1665.280021   \n1    JUV015  220409      2  1668.150176    1668.315509    1671.711501   \n2    JUV015  220409      3  1673.712821    1673.838320    1684.341445   \n3    JUV015  220409      4  1687.794764            NaN            NaN   \n4    JUV015  220409      5  1694.732903    1694.925569    1696.422896   \n..      ...     ...    ...          ...            ...            ...   \n401  JUV015  220409    402  5226.803108    5226.922943    5232.883250   \n402  JUV015  220409    403  5234.884409            NaN            NaN   \n403  JUV015  220409    404  5241.848048    5242.004547    5246.140705   \n404  JUV015  220409    405  5248.142023            NaN            NaN   \n405  JUV015  220409    406  5255.571826            NaN            NaN   \n\n     water_valve_on      outcome  \\\n0       1663.755527  1663.755527   \n1       1668.317842  1668.317842   \n2               NaN  1673.838320   \n3               NaN  1691.045085   \n4       1694.927744  1694.927744   \n..              ...          ...   \n401     5226.925274  5226.925274   \n402             NaN  5238.134730   \n403     5242.006714  5242.006714   \n404             NaN  5251.392343   \n405             NaN  5258.574148   \n\n                                                 licks sound_num reward  \\\n0    [1663.75336, 1663.865527, 1663.99786, 1664.063...         4      2   \n1    [1668.315509, 1668.408008, 1668.516508, 1668.6...         2      2   \n2    [1673.83832, 1673.94432, 1682.976117, 1683.168...         5     -1   \n3                                                   []         8      0   \n4    [1694.925569, 1695.017741, 1695.119235, 1695.1...         2      2   \n..                                                 ...       ...    ...   \n401  [5226.922943, 5227.015774, 5227.12494, 5227.23...         4      2   \n402                                                 []         6      0   \n403  [5242.004547, 5242.091047, 5242.200547, 5242.3...         4      2   \n404                                                 []         8      0   \n405                                                 []        11     -1   \n\n    go_nogo  licks_out quality water_valve_amt  \n0        go         15  normal               2  \n1        go         17  normal               2  \n2      nogo          8  normal             NaN  \n3      nogo          0  normal             NaN  \n4        go         15  normal               2  \n..      ...        ...     ...             ...  \n401      go         15  normal               2  \n402    nogo          0  normal             NaN  \n403      go         14  normal               2  \n404    nogo          0  normal             NaN  \n405      go          0  missed             NaN  \n\n[406 rows x 15 columns]",
      "text/html": "<div>\n<style scoped>\n    .dataframe tbody tr th:only-of-type {\n        vertical-align: middle;\n    }\n\n    .dataframe tbody tr th {\n        vertical-align: top;\n    }\n\n    .dataframe thead th {\n        text-align: right;\n    }\n</style>\n<table border=\"1\" class=\"dataframe\">\n  <thead>\n    <tr style=\"text-align: right;\">\n      <th></th>\n      <th>animal</th>\n      <th>session</th>\n      <th>trial</th>\n      <th>onset</th>\n      <th>first_lick_in</th>\n      <th>last_lick_out</th>\n      <th>water_valve_on</th>\n      <th>outcome</th>\n      <th>licks</th>\n      <th>sound_num</th>\n      <th>reward</th>\n      <th>go_nogo</th>\n      <th>licks_out</th>\n      <th>quality</th>\n      <th>water_valve_amt</th>\n    </tr>\n  </thead>\n  <tbody>\n    <tr>\n      <th>0</th>\n      <td>JUV015</td>\n      <td>220409</td>\n      <td>1</td>\n      <td>1663.447028</td>\n      <td>1663.753360</td>\n      <td>1665.280021</td>\n      <td>1663.755527</td>\n      <td>1663.755527</td>\n      <td>[1663.75336, 1663.865527, 1663.99786, 1664.063...</td>\n      <td>4</td>\n      <td>2</td>\n      <td>go</td>\n      <td>15</td>\n      <td>normal</td>\n      <td>2</td>\n    </tr>\n    <tr>\n      <th>1</th>\n      <td>JUV015</td>\n      <td>220409</td>\n      <td>2</td>\n      <td>1668.150176</td>\n      <td>1668.315509</td>\n      <td>1671.711501</td>\n      <td>1668.317842</td>\n      <td>1668.317842</td>\n      <td>[1668.315509, 1668.408008, 1668.516508, 1668.6...</td>\n      <td>2</td>\n      <td>2</td>\n      <td>go</td>\n      <td>17</td>\n      <td>normal</td>\n      <td>2</td>\n    </tr>\n    <tr>\n      <th>2</th>\n      <td>JUV015</td>\n      <td>220409</td>\n      <td>3</td>\n      <td>1673.712821</td>\n      <td>1673.838320</td>\n      <td>1684.341445</td>\n      <td>NaN</td>\n      <td>1673.838320</td>\n      <td>[1673.83832, 1673.94432, 1682.976117, 1683.168...</td>\n      <td>5</td>\n      <td>-1</td>\n      <td>nogo</td>\n      <td>8</td>\n      <td>normal</td>\n      <td>NaN</td>\n    </tr>\n    <tr>\n      <th>3</th>\n      <td>JUV015</td>\n      <td>220409</td>\n      <td>4</td>\n      <td>1687.794764</td>\n      <td>NaN</td>\n      <td>NaN</td>\n      <td>NaN</td>\n      <td>1691.045085</td>\n      <td>[]</td>\n      <td>8</td>\n      <td>0</td>\n      <td>nogo</td>\n      <td>0</td>\n      <td>normal</td>\n      <td>NaN</td>\n    </tr>\n    <tr>\n      <th>4</th>\n      <td>JUV015</td>\n      <td>220409</td>\n      <td>5</td>\n      <td>1694.732903</td>\n      <td>1694.925569</td>\n      <td>1696.422896</td>\n      <td>1694.927744</td>\n      <td>1694.927744</td>\n      <td>[1694.925569, 1695.017741, 1695.119235, 1695.1...</td>\n      <td>2</td>\n      <td>2</td>\n      <td>go</td>\n      <td>15</td>\n      <td>normal</td>\n      <td>2</td>\n    </tr>\n    <tr>\n      <th>...</th>\n      <td>...</td>\n      <td>...</td>\n      <td>...</td>\n      <td>...</td>\n      <td>...</td>\n      <td>...</td>\n      <td>...</td>\n      <td>...</td>\n      <td>...</td>\n      <td>...</td>\n      <td>...</td>\n      <td>...</td>\n      <td>...</td>\n      <td>...</td>\n      <td>...</td>\n    </tr>\n    <tr>\n      <th>401</th>\n      <td>JUV015</td>\n      <td>220409</td>\n      <td>402</td>\n      <td>5226.803108</td>\n      <td>5226.922943</td>\n      <td>5232.883250</td>\n      <td>5226.925274</td>\n      <td>5226.925274</td>\n      <td>[5226.922943, 5227.015774, 5227.12494, 5227.23...</td>\n      <td>4</td>\n      <td>2</td>\n      <td>go</td>\n      <td>15</td>\n      <td>normal</td>\n      <td>2</td>\n    </tr>\n    <tr>\n      <th>402</th>\n      <td>JUV015</td>\n      <td>220409</td>\n      <td>403</td>\n      <td>5234.884409</td>\n      <td>NaN</td>\n      <td>NaN</td>\n      <td>NaN</td>\n      <td>5238.134730</td>\n      <td>[]</td>\n      <td>6</td>\n      <td>0</td>\n      <td>nogo</td>\n      <td>0</td>\n      <td>normal</td>\n      <td>NaN</td>\n    </tr>\n    <tr>\n      <th>403</th>\n      <td>JUV015</td>\n      <td>220409</td>\n      <td>404</td>\n      <td>5241.848048</td>\n      <td>5242.004547</td>\n      <td>5246.140705</td>\n      <td>5242.006714</td>\n      <td>5242.006714</td>\n      <td>[5242.004547, 5242.091047, 5242.200547, 5242.3...</td>\n      <td>4</td>\n      <td>2</td>\n      <td>go</td>\n      <td>14</td>\n      <td>normal</td>\n      <td>2</td>\n    </tr>\n    <tr>\n      <th>404</th>\n      <td>JUV015</td>\n      <td>220409</td>\n      <td>405</td>\n      <td>5248.142023</td>\n      <td>NaN</td>\n      <td>NaN</td>\n      <td>NaN</td>\n      <td>5251.392343</td>\n      <td>[]</td>\n      <td>8</td>\n      <td>0</td>\n      <td>nogo</td>\n      <td>0</td>\n      <td>normal</td>\n      <td>NaN</td>\n    </tr>\n    <tr>\n      <th>405</th>\n      <td>JUV015</td>\n      <td>220409</td>\n      <td>406</td>\n      <td>5255.571826</td>\n      <td>NaN</td>\n      <td>NaN</td>\n      <td>NaN</td>\n      <td>5258.574148</td>\n      <td>[]</td>\n      <td>11</td>\n      <td>-1</td>\n      <td>go</td>\n      <td>0</td>\n      <td>missed</td>\n      <td>NaN</td>\n    </tr>\n  </tbody>\n</table>\n<p>406 rows × 15 columns</p>\n</div>"
     },
     "execution_count": 10,
     "metadata": {},
     "output_type": "execute_result"
    }
   ],
   "source": [
    "trialbytrial.to_df()\n",
    "\n",
    "# why NaNs for last_lick_out?\n",
    "# reward?\n",
    "# quality?\n",
    "# sound_num: identity of sound stimulus (1-16)\n",
    "# reward: 2:hit; 0: correct rejection; -1: mistake"
   ]
  },
  {
   "cell_type": "code",
   "execution_count": 11,
   "metadata": {},
   "outputs": [],
   "source": [
    "# save as csv file\n",
    "trialbytrial.to_df().to_csv(f\"{animal}_{session}_behavior_output.csv\")\n",
    "\n",
    "# save the csv file to the root location"
   ]
  },
  {
   "cell_type": "code",
   "execution_count": 12,
   "outputs": [],
   "source": [
    "# add some plot to show the performance\n",
    "# 1. psychometric curve\n",
    "# 2. lickrate by trial type\n",
    "# 3. response time by trial type\n",
    "#"
   ],
   "metadata": {
    "collapsed": false
   }
  },
  {
   "cell_type": "code",
   "execution_count": 13,
   "outputs": [],
   "source": [
    "import matplotlib.pyplot as plt"
   ],
   "metadata": {
    "collapsed": false
   }
  },
  {
   "cell_type": "code",
   "execution_count": 14,
   "outputs": [
    {
     "name": "stderr",
     "output_type": "stream",
     "text": [
      "C:\\Users\\hongl\\AppData\\Local\\Temp\\ipykernel_34436\\1420467029.py:14: RuntimeWarning: invalid value encountered in divide\n",
      "  ax.plot(sound, numGo/numSound)\n"
     ]
    },
    {
     "data": {
      "text/plain": "<Figure size 640x480 with 1 Axes>",
      "image/png": "[encoded data removed]"
     },
     "metadata": {},
     "output_type": "display_data"
    }
   ],
   "source": [
    "# psychometric curve\n",
    "#hfile['out']['sound_freq'][0:-1]\n",
    "trialDF = trialbytrial.to_df()\n",
    "sound = np.arange(1,len(np.unique(trialDF.sound_num))+1)\n",
    "numGo = np.zeros(len(np.unique(trialDF.sound_num)))\n",
    "numSound = np.zeros(len(np.unique(trialDF.sound_num)))\n",
    "numTrial = len(trialDF.sound_num)\n",
    "\n",
    "for ss in range(len(numGo)):\n",
    "    numGo[ss] = np.sum(np.logical_and(np.array(trialDF.sound_num)==ss,np.array(trialDF.reward)==2))\n",
    "    numSound[ss] = np.sum(np.array(trialDF.sound_num)==ss)\n",
    "\n",
    "fig, ax = plt.subplots()\n",
    "ax.plot(sound, numGo/numSound)\n",
    "\n",
    "#ax.legend()\n",
    "ax.set_xlabel('sound')\n",
    "ax.set_ylabel('Go rate')\n",
    "plt.show()"
   ],
   "metadata": {
    "collapsed": false
   }
  },
  {
   "cell_type": "code",
   "execution_count": 24,
   "outputs": [
    {
     "data": {
      "text/plain": "<Figure size 640x480 with 1 Axes>",
      "image/png": "[encoded data removed]"
     },
     "metadata": {},
     "output_type": "display_data"
    }
   ],
   "source": [
    "# response time\n",
    "rt = np.zeros(numTrial)\n",
    "\n",
    "for tt in range(len(rt)):\n",
    "    rt[tt] = trialDF.first_lick_in[tt]-trialDF.onset[tt]\n",
    "\n",
    "# plot the response time distribution in hit/false alarm trials\n",
    "fig, ax = plt.subplots()\n",
    "_, bins, _ = plt.hist(rt[np.array(trialDF.reward)==2], bins=50, range=[0, .5], density=True)\n",
    "_ = plt.hist(rt[np.array(trialDF.reward)==-1], bins=bins, density=True)\n",
    "\n",
    "ax.set_xlabel('Response time (s)')\n",
    "ax.set_ylabel('Frequency (%)')\n",
    "ax.set_title('Response time (s)')\n",
    "\n",
    "ax.spines['top'].set_visible(False)\n",
    "ax.spines['right'].set_visible(False)\n",
    "legend = ax.legend(['Hit', 'False alarm'])\n",
    "legend.get_frame().set_linewidth(0.0)\n",
    "legend.get_frame().set_facecolor('none')\n",
    "\n",
    "plt.show()\n",
    "\n"
   ],
   "metadata": {
    "collapsed": false
   }
  },
  {
   "cell_type": "code",
   "execution_count": 22,
   "outputs": [
    {
     "data": {
      "text/plain": "<Figure size 640x480 with 1 Axes>",
      "image/png": "[encoded data removed]"
     },
     "metadata": {},
     "output_type": "display_data"
    }
   ],
   "source": [
    "# plot lick rate for Hit/false alarm trials\n",
    "lickTimesH = np.array([0])# lick rate for Hit trials\n",
    "lickTimesFA = np.array([0]) # lick rage for False alarm trials\n",
    "binSize = 0.05  # use a 0.05s window for lick rate\n",
    "edges = np.arange(0+binSize/2,3-binSize/2,binSize)\n",
    "\n",
    "for tt in range(len(rt)):\n",
    "    if trialDF.reward[tt] == 2:\n",
    "        lickTimesH = np.concatenate((lickTimesH, (np.array(trialDF.licks[tt])-trialDF.onset[tt])))\n",
    "    elif trialDF.reward[tt] == -1:\n",
    "        lickTimesFA = np.concatenate((lickTimesFA, (np.array(trialDF.licks[tt])-trialDF.onset[tt])))\n",
    "\n",
    "lickRateH = np.zeros(len(edges))\n",
    "lickRateFA = np.zeros(len(edges))\n",
    "\n",
    "for ee in range(len(edges)):\n",
    "    lickRateH[ee] = sum(np.logical_and(lickTimesH<=edges[ee]+binSize/2, lickTimesH>edges[ee]-binSize/2))/(binSize * sum(np.array(trialDF.reward==2)))\n",
    "    lickRateFA[ee] = sum(np.logical_and(lickTimesFA<=edges[ee]+binSize/2, lickTimesFA>edges[ee]-binSize/2))/(binSize * sum(np.array(trialDF.reward==-1)))\n",
    "\n",
    "# plot the response time distribution in hit/false alarm trials\n",
    "fig, ax = plt.subplots()\n",
    "\n",
    "ax.plot(edges, lickRateH)\n",
    "ax.plot(edges, lickRateFA)\n",
    "\n",
    "ax.set_xlabel('Time from cue (s)')\n",
    "ax.set_ylabel('Frequency (Hz)')\n",
    "ax.set_title('Lick rate (Hz)')\n",
    "ax.spines['top'].set_visible(False)\n",
    "ax.spines['right'].set_visible(False)\n",
    "legend = ax.legend(['Hit', 'False alarm'])\n",
    "legend.get_frame().set_linewidth(0.0)\n",
    "legend.get_frame().set_facecolor('none')\n",
    "\n",
    "plt.show()\n"
   ],
   "metadata": {
    "collapsed": false
   }
  },
  {
   "cell_type": "markdown",
   "metadata": {},
   "source": [
    "Make sure to move the CSV file to the data_root location before continuing!"
   ]
  },
  {
   "cell_type": "markdown",
   "metadata": {},
   "source": [
    "# 2. Alignment of Ca2+ Signal and Plotting\n",
    "Eventually, much of the code in this section should be incorporated into a .py file that will be uploaded to github and not changed. For now, we are laying out some sections of code (particularly those that have been altered from Albert's original code) explicitly, so we can develop a better understanding of what's going on.\n",
    "### A. Setup"
   ]
  },
  {
   "cell_type": "code",
   "execution_count": null,
   "metadata": {
    "scrolled": true
   },
   "outputs": [],
   "source": [
    "from behavioral_albert_MKedits import *\n",
    "# NOTE: this is a locally saved file, same as behavioral_albert.py in nkeil github! \n",
    "# goal is to eventually update a behavioral_albert file with much of this info and save it on github,\n",
    "# rather than run each of these cells individually\n",
    "logging.getLogger().setLevel(logging.WARNING)\n",
    "%matplotlib inline"
   ]
  },
  {
   "cell_type": "code",
   "execution_count": null,
   "metadata": {},
   "outputs": [],
   "source": [
    "from tqdm import tqdm"
   ]
  },
  {
   "cell_type": "code",
   "execution_count": null,
   "metadata": {},
   "outputs": [],
   "source": [
    "data_root = r'Z:\\Madeline\\processed_data'\n",
    "gse = GoNoGo_Expr(data_root)"
   ]
  },
  {
   "cell_type": "markdown",
   "metadata": {},
   "source": [
    "### B. Calculate dF/F\n",
    "Here, we create functions that will be used in our conversion from raw Ca2+ data to dF/F. The first cell will eventually be updated in the .py file on github. To run this notebook, we have downloaded a version of that .py file locally (specified 3 cells above)."
   ]
  },
  {
   "cell_type": "code",
   "execution_count": null,
   "metadata": {},
   "outputs": [],
   "source": [
    "class Suite2pSeries:\n",
    "\n",
    "    def __init__(self, suite2p):\n",
    "        suite2p = os.path.join(suite2p, 'plane0')\n",
    "        Fraw = np.load(oj(suite2p, 'F.npy'))\n",
    "        ops = np.load(oj(suite2p, 'ops.npy'), allow_pickle=True)\n",
    "        neuropil = np.load(oj(suite2p, 'Fneu.npy'))\n",
    "        cells = np.load(oj(suite2p, 'iscell.npy'))\n",
    "        stat = np.load(oj(suite2p, 'stat.npy'), allow_pickle=True)\n",
    "        self.Fraw = Fraw\n",
    "        self.ops = ops\n",
    "        self.neuropil = neuropil\n",
    "        self.cells = cells\n",
    "        self.stat = stat\n",
    "\n",
    "        F = Fraw - neuropil * 0.7  # subtract neuropil\n",
    "        numcells = np.sum(cells[:, 0] == 1.0) # find number of cells\n",
    "        Fcells = np.zeros((numcells, F.shape[1])) # establish array of ROIs that are cells\n",
    "        counter = 0\n",
    "        for cell in range(0, len(cells)):\n",
    "            if cells[cell, 0] == 1.0:  # if ROI is a cell\n",
    "                Fcells[counter] = F[cell]\n",
    "                counter += 1\n",
    "        \n",
    "        self.neural_df = pd.DataFrame(data=Fcells.T, columns=[f'neuron{i}' for i in range(numcells)])\n",
    "        self.neural_df['time'] = np.arange(self.neural_df.shape[0])        \n",
    "                \n",
    "\n",
    "    def realign_time(self, reference=None): # align Ca2+ data to same timeframe as behavior data\n",
    "        if isinstance(reference, BehaviorMat):\n",
    "            transform_func = lambda ts: reference.align_ts2behavior(ts)\n",
    "        if self.neural_df is not None:\n",
    "            self.neural_df['time'] = transform_func(self.neural_df['time'])\n",
    "\n",
    "    def calculate_dff(self, method='robust', melt=True): # provides different options for how to calculate dF/F\n",
    "        time_axis = self.neural_df['time']\n",
    "        if method == 'old':\n",
    "            Fcells = self.neural_df.values.T\n",
    "            F0 = []\n",
    "            for cell in range(0, Fcells.shape[0]):\n",
    "                include_frames = []\n",
    "                std = np.std(Fcells[cell])\n",
    "                avg = np.mean(Fcells[cell])\n",
    "                for frame in range(0, Fcells.shape[1]):\n",
    "                    if Fcells[cell, frame] < std + avg:\n",
    "                        include_frames.append(Fcells[cell, frame])\n",
    "                F0.append(np.mean(include_frames))\n",
    "            dFF = np.zeros(Fcells.shape)\n",
    "            for cell in range(0, Fcells.shape[0]):\n",
    "                for frame in range(0, Fcells.shape[1]):\n",
    "                    dFF[cell, frame] = (Fcells[cell, frame] - F0[cell]) / F0[cell]\n",
    "        elif method == 'robust':\n",
    "            Fcells = self.neural_df.values.T\n",
    "            dFF = np.zeros(Fcells.shape) # d\n",
    "            for cell in tqdm(range(Fcells.shape[0])):\n",
    "                f0_cell = robust_filter(Fcells[cell], method=12, window=200, optimize_window=2, buffer=False)[:, 0]\n",
    "                dFF[cell] = (Fcells[cell] - f0_cell) / f0_cell\n",
    "        dff_df = pd.DataFrame(data=dFF.T, columns=[f'neuron{i}' for i in range(Fcells.shape[0])])\n",
    "        dff_df['time'] = time_axis\n",
    "        if melt:\n",
    "            rois = [c for c in dff_df.columns if c != 'time']\n",
    "            melted = pd.melt(dff_df, id_vars='time', value_vars=rois, var_name='roi', value_name='ZdFF')\n",
    "            return melted\n",
    "        else:\n",
    "            return dff_df\n",
    "    \n",
    "    def melt_dff_df(self, dff_df):\n",
    "        rois = [c for c in dff_df.columns if c != 'time']\n",
    "        melted = pd.melt(dff_df, id_vars='time', value_vars=rois, var_name='roi', value_name='ZdFF')\n",
    "        return melted\n",
    "    \n",
    "    # ALBERT: I need help making this particular function work... can explain later\n",
    "    def plot_cell_location_dFF(neuron_range):\n",
    "        import random\n",
    "        Fcells = self.neural_df.values.T\n",
    "        cellstat = []\n",
    "        for cell in range(0,Fcells.shape[0]):\n",
    "            if cells[cell,0] > 0:\n",
    "                cellstat.append(stat[cell])\n",
    "        for cell in neuron_range:\n",
    "            im = np.zeros((256,256))\n",
    "            xs = cellstat[cell]['xpix']\n",
    "            ys = cellstat[cell]['ypix']\n",
    "            im[ys, xs] = random.random()\n",
    "            plt.figure(figsize=(16,4))\n",
    "            plt.subplot(1, 2, 1)\n",
    "            plt.imshow(im, cmap='CMRmap')\n",
    "            plt.subplot(1, 2, 2)\n",
    "            plt.plot(dFF[cell,15000:20000], label = \"Neuron \" + str(cell))\n",
    "            plt.legend()\n",
    "        "
   ]
  },
  {
   "cell_type": "markdown",
   "metadata": {},
   "source": [
    "Here we retreive our behavioral data, align it to the Ca2+ data, and calculate dF/F! The functions specified here are in the .py file."
   ]
  },
  {
   "cell_type": "code",
   "execution_count": null,
   "metadata": {},
   "outputs": [],
   "source": [
    "filemap = gse.encode_to_filename(animal, session, ['suite2p', 'log', 'trial'])\n",
    "bmat = GNGTBehaviorMat(animal, session, filemap['log'], filemap['trial'])\n",
    "gn_series = Suite2pSeries(filemap['suite2p'])\n",
    "gn_series.realign_time(bmat)\n",
    "bdf = bmat.todf()\n",
    "dff_df_unmelted = gn_series.calculate_dff(melt=False)\n",
    "dff_df = gn_series.melt_dff_df(dff_df_unmelted)"
   ]
  },
  {
   "cell_type": "code",
   "execution_count": null,
   "metadata": {},
   "outputs": [],
   "source": [
    "dff_df.to_csv(f\"{animal}_{session}_dff_df_file.csv\")"
   ]
  },
  {
   "cell_type": "code",
   "execution_count": null,
   "metadata": {},
   "outputs": [],
   "source": [
    "bdf.to_csv(f\"{animal}_{session}_bdf_file.csv\")"
   ]
  },
  {
   "cell_type": "markdown",
   "metadata": {},
   "source": [
    "### C. Determining baseline levels of cell activity"
   ]
  },
  {
   "cell_type": "code",
   "execution_count": null,
   "metadata": {
    "scrolled": true
   },
   "outputs": [],
   "source": [
    "activity = pd.DataFrame()\n",
    "for neuron in dff_df['roi'].unique():\n",
    "    df_byneuron = dff_df[dff_df['roi']==neuron]\n",
    "    activity.loc[neuron,'mean_ZdFF'] = df_byneuron['ZdFF'].mean()"
   ]
  },
  {
   "cell_type": "code",
   "execution_count": null,
   "metadata": {},
   "outputs": [],
   "source": [
    "most_active = []\n",
    "least_active = []\n",
    "mid_active = []\n",
    "for row in activity.index:\n",
    "    if activity.loc[row,'mean_ZdFF'] > activity.mean_ZdFF.quantile(0.67):\n",
    "        most_active.append(row)\n",
    "    elif activity.loc[row,'mean_ZdFF'] < activity.mean_ZdFF.quantile(0.33):\n",
    "        least_active.append(row)\n",
    "    else:\n",
    "        mid_active.append(row)"
   ]
  },
  {
   "cell_type": "code",
   "execution_count": null,
   "metadata": {},
   "outputs": [],
   "source": [
    "plt.figure(figsize=(16,4))\n",
    "neur59 = dff_df[dff_df['roi']=='neuron59']\n",
    "plt.plot(neur59.loc[:,'time'],neur59.loc[:,'ZdFF'])"
   ]
  },
  {
   "cell_type": "code",
   "execution_count": null,
   "metadata": {},
   "outputs": [],
   "source": [
    "plt.figure(figsize=(16,16))\n",
    "counter = len(mid_active)\n",
    "for neuron in mid_active:\n",
    "    dff = dff_df[dff_df['roi']==neuron]\n",
    "    plt.plot(dff.loc[:,'time'],dff.loc[:,'ZdFF']+ (2*counter))\n",
    "    counter -= 1"
   ]
  },
  {
   "cell_type": "code",
   "execution_count": null,
   "metadata": {},
   "outputs": [],
   "source": [
    "dff_df"
   ]
  },
  {
   "cell_type": "markdown",
   "metadata": {},
   "source": [
    "# 3. Detecting cell responsiveness\n",
    "Here we define a functions to plot the neuronal activity of a list of neurons aligned to a certain event. Below are a few similar functions that use different thresholds to determine neuronal responsiveness."
   ]
  },
  {
   "cell_type": "code",
   "execution_count": null,
   "metadata": {},
   "outputs": [],
   "source": [
    "dff_df = pd.read_csv('JUV015_220409_dff_df_file.csv')"
   ]
  },
  {
   "cell_type": "code",
   "execution_count": null,
   "metadata": {},
   "outputs": [],
   "source": [
    "gse.nbm.event_time_windows['onset'] = np.arange(-2, 2.001, 0.05) # change window visible in plot\n",
    "gse.nbm.event_time_windows['first_lick_in'] = np.arange(0, 2.001, 0.05)"
   ]
  },
  {
   "cell_type": "markdown",
   "metadata": {},
   "source": [
    "### A. Thresholding for each cue individually"
   ]
  },
  {
   "cell_type": "markdown",
   "metadata": {},
   "source": [
    "Here we can view a table listing the fluorescent values for each trial of a given cell."
   ]
  },
  {
   "cell_type": "code",
   "execution_count": null,
   "metadata": {},
   "outputs": [],
   "source": [
    "neur_dff_df = dff_df[dff_df['roi'] == 'neuron77'].reset_index(drop=True)\n",
    "df = gse.nbm.align_B2N_dff_ID(bdf, neur_dff_df, ['onset'], form='wide')\n",
    "df"
   ]
  },
  {
   "cell_type": "markdown",
   "metadata": {},
   "source": [
    "Here we set thresholds for excitatory and inhibitory responses and plot the cells' average fluorescent trace + StDev."
   ]
  },
  {
   "cell_type": "code",
   "execution_count": null,
   "metadata": {},
   "outputs": [],
   "source": [
    "def plot_thres(event, neuron_range, sound_range=list(range(1,17)), hue=None, x_axis=None, y_axis=None, palette=None):\n",
    "    neurons = [f'neuron{i}' for i in neuron_range]\n",
    "    neur_dff_df = dff_df[dff_df['roi'].isin(neurons)].reset_index(drop=True)\n",
    "    df = gse.nbm.align_B2N_dff_ID(bdf, neur_dff_df, [event], form='wide')\n",
    "    plot_df = gse.nbm.lag_wide_df(df, {f'{event}_neur': {'long':True}})\n",
    "    plot_df = plot_df[plot_df['sound_num'].isin(sound_range)]\n",
    "    plot_df_hits = plot_df[(plot_df['reward']!=-1)]\n",
    "    plot_df_FA = plot_df[(plot_df['reward']==-1)]\n",
    "    df_hits = df[(df['reward']!=-1)]\n",
    "    df_FA = df[(df['reward']==-1)]\n",
    "    if x_axis is None:\n",
    "        x_axis = f'{event}_neur_time'\n",
    "    if y_axis is None:\n",
    "        y_axis = f'{event}_neur_ZdFF'\n",
    "    if palette is None:\n",
    "        palette = 'Spectral'\n",
    "    p = sns.relplot(data=plot_df, x=f'{event}_neur_time', y=f'{event}_neur_ZdFF', hue=hue, row='roi', col='sound_num', ci='sd', kind='line', palette=palette)\n",
    "    p.set_xlabels(x_axis, fontsize = 15)\n",
    "    p.set_ylabels(y_axis, fontsize = 15)\n",
    "    thresholds_max = []\n",
    "    thresholds_min = []\n",
    "    postthres = []\n",
    "#    meanstds = []\n",
    "    for neuron in df['roi'].unique():\n",
    "        df_byneuron = df_hits[df_hits['roi']==neuron]\n",
    "        for num in sound_range:\n",
    "            df_bycue = df_byneuron[(df_byneuron['sound_num']==num)]\n",
    "            prestim = df_bycue.iloc[:,16:56].describe()\n",
    "            poststim = (df_bycue.iloc[:,57:].describe()).loc['mean']\n",
    "#            poststds = (df_bycue.iloc[:,37:].describe()).loc['std']\n",
    "            meanofmeans = np.mean(prestim.loc['mean'])\n",
    "            postmean = np.mean(poststim)\n",
    "            stdofmeans = np.std(prestim.loc['mean'])\n",
    "            meanofstds = np.mean(prestim.loc['std'])\n",
    "            thresholds_max.append(meanofmeans + 3*stdofmeans)\n",
    "            thresholds_min.append(meanofmeans - 3*stdofmeans)\n",
    "            postthres.append(postmean)\n",
    "    for ax in p.axes.ravel():\n",
    "        ax.axvline(0, ls='--', c='k',lw=2)\n",
    "    #for i, ax in enumerate(p.axes.flatten()):\n",
    "    #    ax.axhline(thresholds_min[i], ls=':', c='k')\n",
    "    #    ax.axhline(thresholds_max[i], ls=':', c='k')\n",
    "    #    ax.axhline(postthres[i],c='r')"
   ]
  },
  {
   "cell_type": "code",
   "execution_count": null,
   "metadata": {},
   "outputs": [],
   "source": [
    "plot_thres('onset',[72], \n",
    "           sound_range=[1,2,3,4,5,6,7,8],\n",
    "           hue='sound_num', \n",
    "           x_axis=\"Time Relative to Cue Onset\", \n",
    "           y_axis=\"dF/F\",\n",
    "           palette='seismic')"
   ]
  },
  {
   "cell_type": "markdown",
   "metadata": {},
   "source": [
    "Here we set thresholds for excitatory and inhibitory responses. We create a dataframe and count the cue events to which each cell is responsive."
   ]
  },
  {
   "cell_type": "code",
   "execution_count": null,
   "metadata": {},
   "outputs": [],
   "source": [
    "pth = None\n",
    "def responsive_table(event, neuron_range, sound_range=list(range(1,17)), hue=None, x_axis=None, y_axis=None, palette=None):\n",
    "    neurons = [f'neuron{i}' for i in range(*neuron_range)]\n",
    "    neur_dff_df = dff_df[dff_df['roi'].isin(neurons)].reset_index(drop=True)\n",
    "    df = gse.nbm.align_B2N_dff_ID(bdf, neur_dff_df, [event], form='wide')\n",
    "    plot_df = gse.nbm.lag_wide_df(df, {f'{event}_neur': {'long':True}})\n",
    "    plot_df = plot_df[plot_df['sound_num'].isin(sound_range)]\n",
    "    plot_df_hits = plot_df[(plot_df['reward']!=-1)]\n",
    "    df_hits = df[(df['reward']!=-1)]\n",
    "    past_thresh = pd.DataFrame(0, index=[df['roi'].unique()], \n",
    "                               columns=['Go-E', 'Go-I', 'NoGo-E', 'NoGo-I','total','both-E','both-I','both-mixed','single-E','single-I'])\n",
    "    for neuron in df['roi'].unique():\n",
    "        df_byneuron = df_hits[df_hits['roi']==neuron]\n",
    "        for num in sound_range:\n",
    "            df_bycue = df_byneuron[(df_byneuron['sound_num']==num)]\n",
    "            prestim = df_bycue.iloc[:,16:37].describe()\n",
    "            poststim = (df_bycue.iloc[:,37:].describe()).loc['mean']\n",
    "            poststds = (df_bycue.iloc[:,37:].describe()).loc['std']\n",
    "            meanofmeans = np.mean(prestim.loc['mean'])\n",
    "            postmean = np.mean(poststim)\n",
    "            stdofmeans = np.std(prestim.loc['mean'])\n",
    "            meanofstds = np.mean(prestim.loc['std'])\n",
    "            if num < 5:\n",
    "                if any(postmean > (meanofmeans + 3*stdofmeans) for val in range(0,len(poststim))): # if go cue increased response\n",
    "                    past_thresh.loc[neuron,'Go-E'] += 1\n",
    "                if any(postmean < (meanofmeans - 3*stdofmeans) for val in range(0,len(poststim))): # if go cue decreased response\n",
    "                    past_thresh.loc[neuron,'Go-I'] += 1\n",
    "            if num > 4 and num < 9:\n",
    "                if any(postmean > (meanofmeans + 3*stdofmeans) for val in range(0,len(poststim))): # if nogo cue increased response\n",
    "                    past_thresh.loc[neuron,'NoGo-E'] += 1\n",
    "                if any(postmean < (meanofmeans - 3*stdofmeans) for val in range(0,len(poststim))): # if nogo cue decreased response\n",
    "                    past_thresh.loc[neuron,'NoGo-I'] += 1\n",
    "        past_thresh['total'] = past_thresh['Go-E'] + past_thresh['NoGo-E'] + past_thresh['Go-I'] + past_thresh['NoGo-I']\n",
    "        if any(past_thresh.loc[neuron,'Go-E'] > 0) and any(past_thresh.loc[neuron,'NoGo-E'] > 0):\n",
    "            past_thresh.loc[neuron,'both-E'] = 1\n",
    "        if any(past_thresh.loc[neuron,'Go-I'] > 0) and any(past_thresh.loc[neuron,'NoGo-I'] > 0):\n",
    "            past_thresh.loc[neuron,'both-I'] = 1\n",
    "        if (any(past_thresh.loc[neuron,'Go-E'] > 0) and any(past_thresh.loc[neuron,'NoGo-I'] > 0)) or (any(past_thresh.loc[neuron,'Go-I'] > 0) and any(past_thresh.loc[neuron,'NoGo-E'] > 0)):\n",
    "            past_thresh.loc[neuron,'both-mixed'] = 1\n",
    "        if any(past_thresh.loc[neuron,'Go-E'] + past_thresh.loc[neuron,'NoGo-E'] == 1):\n",
    "            past_thresh.loc[neuron,'single-E'] = 1\n",
    "        if any(past_thresh.loc[neuron,'Go-I'] + past_thresh.loc[neuron,'NoGo-I'] == 1):\n",
    "            past_thresh.loc[neuron,'single-I'] = 1\n",
    "          #  for val in range(0,len(poststim)):\n",
    "          #      if (poststim[val]-poststds[val] > meanofmeans + 2*stdofmeans) or (poststim[val]+poststds[val] < meanofmeans - 2*stdofmeans):\n",
    "          #          past_thresh.loc[neuron,num] += 1\n",
    "           # if postmean > (meanofmeans + 3*stdofmeans) or postmean < (meanofmeans - 3*stdofmeans): # if go cue increased response\n",
    "            #    past_thresh.loc[neuron,num] += 1\n",
    "            #past_thresh.loc[neuron,num] = past_thresh.loc[neuron,num] / 40 * 100\n",
    "#    for ax in p.axes.ravel():\n",
    "#        ax.axvline(0, ls='--', c='k',lw=2)\n",
    "#    for i, ax in enumerate(p.axes.flatten()):\n",
    "#        ax.axhline(thresholds_min[i], ls=':', c='k')\n",
    "#        ax.axhline(thresholds_max[i], ls=':', c='k')\n",
    "    return past_thresh"
   ]
  },
  {
   "cell_type": "code",
   "execution_count": null,
   "metadata": {},
   "outputs": [],
   "source": [
    "responses = responsive_table('onset',(0,166), \n",
    "               sound_range=[1,2,3,4,5,6,7,8],\n",
    "               hue='sound_num', \n",
    "               x_axis=\"Time Relative to Cue Onset\", \n",
    "               y_axis=\"dF/F\",\n",
    "               palette='seismic')\n",
    "\n",
    "total_res = responses.sum()\n",
    "total_res\n"
   ]
  },
  {
   "cell_type": "code",
   "execution_count": null,
   "metadata": {},
   "outputs": [],
   "source": [
    "binary = responses\n",
    "binary[binary > 1] = 1\n",
    "binary.sum()"
   ]
  },
  {
   "cell_type": "code",
   "execution_count": null,
   "metadata": {
    "scrolled": true
   },
   "outputs": [],
   "source": [
    "#responsive = binary[binary.isin([1]).any(axis=1)]\n",
    "responsive = binary[binary[\"Go-E\"] == 1]\n",
    "responsive"
   ]
  },
  {
   "cell_type": "code",
   "execution_count": null,
   "metadata": {},
   "outputs": [],
   "source": [
    "neuron_list = list(responsive.index)"
   ]
  },
  {
   "cell_type": "markdown",
   "metadata": {},
   "source": [
    "### B. Statistical testing for responsiveness"
   ]
  },
  {
   "cell_type": "code",
   "execution_count": null,
   "metadata": {},
   "outputs": [],
   "source": [
    "pd.options.mode.chained_assignment = None\n",
    "\n",
    "def wilcoxon_by_cue(event, neuron_range, sound_range=list(range(1,17))):\n",
    "    neurons = [f'neuron{i}' for i in neuron_range]\n",
    "    neur_dff_df = dff_df[dff_df['roi'].isin(neurons)].reset_index(drop=True)\n",
    "    df = gse.nbm.align_B2N_dff_ID(bdf, neur_dff_df, [event], form='wide')\n",
    "    plot_df = gse.nbm.lag_wide_df(df, {f'{event}_neur': {'long':True}})\n",
    "    plot_df = plot_df[plot_df['sound_num'].isin(sound_range)]\n",
    "    #df_hits = df[(df['reward']!=-1)]\n",
    "    df_gonogo = df[(df['sound_num']<9)]\n",
    "    wilcoxon = pd.DataFrame()\n",
    "    wilcoxon_sig = pd.DataFrame()\n",
    "    for neuron in df['roi'].unique():\n",
    "        df_byneuron = df_gonogo[df_gonogo['roi']==neuron]\n",
    "        for num in sound_range:\n",
    "            df_bycue = df_byneuron[(df_byneuron['sound_num']==num)]\n",
    "            df_bycue['precue_avg'] = np.mean(df_bycue.iloc[:,16:56], axis=1)\n",
    "            df_bycue['postcue_avg'] = np.mean(df_bycue.iloc[:,57:97], axis=1)\n",
    "            stat, pval = scipy.stats.ranksums(df_bycue['precue_avg'], df_bycue['postcue_avg'])\n",
    "            wilcoxon.loc[neuron,num] = pval\n",
    "            if pval < 0.01:\n",
    "                wilcoxon_sig.loc[neuron,num] = 1\n",
    "            else:\n",
    "                wilcoxon_sig.loc[neuron,num] = 0\n",
    "    return wilcoxon, wilcoxon_sig"
   ]
  },
  {
   "cell_type": "code",
   "execution_count": null,
   "metadata": {},
   "outputs": [],
   "source": [
    "pval_table, sig_table = wilcoxon_by_cue('onset', list(range(0,165)), \n",
    "           list([1,2,3,4,5,6,7,8]))"
   ]
  },
  {
   "cell_type": "code",
   "execution_count": null,
   "metadata": {
    "scrolled": true
   },
   "outputs": [],
   "source": [
    "sig_table['go_sum'] = np.sum(sig_table.iloc[:,0:4], axis=1) \n",
    "sig_table['nogo_sum'] = np.sum(sig_table.iloc[:,4:8], axis=1)\n",
    "sig_table['total'] = np.sum(sig_table.loc[:,['go_sum','nogo_sum']], axis=1)\n",
    "sig_table"
   ]
  },
  {
   "cell_type": "code",
   "execution_count": null,
   "metadata": {},
   "outputs": [],
   "source": [
    "sig_table['total'] = np.sum(sig_table.iloc[:,0:2], axis=1)\n",
    "sig_table.rename(columns={sig_table.columns[0]: 'two'},inplace=True)\n",
    "sig_table.rename(columns={sig_table.columns[1]: 'seven'},inplace=True)\n",
    "sig_table"
   ]
  },
  {
   "cell_type": "code",
   "execution_count": null,
   "metadata": {},
   "outputs": [],
   "source": [
    "go_responsive = []\n",
    "nogo_responsive = []\n",
    "mixed_responsive = []\n",
    "for row in sig_table.index.values:\n",
    "    if sig_table.loc[row,'two'] > 0 and sig_table.loc[row,'seven'] == 0.0:\n",
    "        go_responsive.append(row)\n",
    "    if sig_table.loc[row,'seven'] > 0 and sig_table.loc[row,'two'] == 0.0:\n",
    "        nogo_responsive.append(row)\n",
    "    if sig_table.loc[row,'two'] > 0 and sig_table.loc[row,'seven'] > 0:\n",
    "        mixed_responsive.append(row)"
   ]
  },
  {
   "cell_type": "code",
   "execution_count": null,
   "metadata": {},
   "outputs": [],
   "source": [
    "go_responsive = []\n",
    "nogo_responsive = []\n",
    "mixed_responsive = []\n",
    "single_responsive = pd.DataFrame()\n",
    "for row in sig_table.index.values:\n",
    "    if sig_table.loc[row,'go_sum'] > 0 and sig_table.loc[row,'nogo_sum'] == 0.0:\n",
    "        go_responsive.append(row)\n",
    "    if sig_table.loc[row,'nogo_sum'] > 0 and sig_table.loc[row,'go_sum'] == 0.0:\n",
    "        nogo_responsive.append(row)\n",
    "    if sig_table.loc[row,'go_sum'] > 0 and sig_table.loc[row,'nogo_sum'] > 0:\n",
    "        mixed_responsive.append(row)\n",
    "    if sig_table.loc[row,'total'] == 1:\n",
    "        single_responsive.loc[row,'cue'] = np.where(sig_table.loc[row] == 1)[0][0]+1"
   ]
  },
  {
   "cell_type": "code",
   "execution_count": null,
   "metadata": {},
   "outputs": [],
   "source": [
    "print(\"num go-responsive cells: \" + str(len(go_responsive)))\n",
    "print(\"num no-go-responsive cells: \" + str(len(nogo_responsive)))\n",
    "print(\"num mixed-responsive cells: \" + str(len(mixed_responsive)))\n",
    "print(\"num single-cue-responsive cells: \" + str(len(single_responsive)))"
   ]
  },
  {
   "cell_type": "code",
   "execution_count": null,
   "metadata": {
    "scrolled": true
   },
   "outputs": [],
   "source": [
    "mixed_responsive"
   ]
  },
  {
   "cell_type": "code",
   "execution_count": null,
   "metadata": {
    "scrolled": true
   },
   "outputs": [],
   "source": [
    "pval_table.loc['neuron59',:]"
   ]
  },
  {
   "cell_type": "code",
   "execution_count": null,
   "metadata": {},
   "outputs": [],
   "source": [
    "def plotcell(event, neuron_range, sound_range=list(range(1,17)), hue=None, x_axis=None, y_axis=None, palette=None):\n",
    "    neurons = [f'neuron{i}' for i in neuron_range]\n",
    "    neur_dff_df = dff_df[dff_df['roi'].isin(neurons)].reset_index(drop=True)\n",
    "    df = gse.nbm.align_B2N_dff_ID(bdf, neur_dff_df, [event], form='wide')\n",
    "    plot_df = gse.nbm.lag_wide_df(df, {f'{event}_neur': {'long':True}})\n",
    "    plot_df = plot_df[plot_df['sound_num'].isin(sound_range)]\n",
    "    if x_axis is None:\n",
    "        x_axis = f'{event}_neur_time'\n",
    "    if y_axis is None:\n",
    "        y_axis = f'{event}_neur_ZdFF'\n",
    "    if palette is None:\n",
    "        palette = 'Spectral'\n",
    "    p = sns.relplot(data=plot_df, x=f'{event}_neur_time', y=f'{event}_neur_ZdFF', hue=hue, row='roi', col='sound_num', ci='sd', kind='line', palette=palette)\n",
    "    p.set_xlabels(x_axis, fontsize = 15)\n",
    "    p.set_ylabels(y_axis, fontsize = 15)"
   ]
  },
  {
   "cell_type": "code",
   "execution_count": null,
   "metadata": {},
   "outputs": [],
   "source": [
    "plotcell('onset',[59], \n",
    "           sound_range=[1,2,3,4,5,6,7,8],\n",
    "           hue='sound_num', \n",
    "           x_axis=\"Time Relative to Cue Onset\", \n",
    "           y_axis=\"dF/F\",\n",
    "           palette='seismic')"
   ]
  },
  {
   "cell_type": "code",
   "execution_count": null,
   "metadata": {},
   "outputs": [],
   "source": [
    "def find_neurons(neuron_range, num):#sound_range=list(range(1,17))):\n",
    "    alph_neurons = sorted(neuron_range, key=str)\n",
    "    key = alph_neurons[num]\n",
    "    return key"
   ]
  },
  {
   "cell_type": "code",
   "execution_count": null,
   "metadata": {},
   "outputs": [],
   "source": [
    "find_neurons(list(range(0,164)), 119)"
   ]
  },
  {
   "cell_type": "code",
   "execution_count": null,
   "metadata": {},
   "outputs": [],
   "source": [
    "def plot_heatmap(event, neuron_range, num):#sound_range=list(range(1,17))):\n",
    "    neurons = [f'neuron{i}' for i in neuron_range]\n",
    "    neur_dff_df = dff_df[dff_df['roi'].isin(neurons)].reset_index(drop=True)\n",
    "    df = gse.nbm.align_B2N_dff_ID(bdf, neur_dff_df, [event], form='wide')\n",
    "    df_num = df[(df['sound_num']==num)]\n",
    "    time = [round(num, 2) for num in np.arange(-2.00, 2.001, 0.05)]\n",
    "    summary_df = pd.DataFrame(index=neurons, columns=(df.columns[15:]))\n",
    "    data = []\n",
    "    for neuron in df['roi'].unique():\n",
    "        temp_data = []\n",
    "        df_byneuron = df_num[df_num['roi']==neuron]\n",
    "        for column in df_byneuron.columns[16:]:\n",
    "            avg = df_byneuron[column].mean()\n",
    "            temp_data.append(avg)\n",
    "        data.append(temp_data)\n",
    "    #df_bycue['precue_avg'] = np.mean(df_bycue.iloc[:,16:56], axis=1)\n",
    "    #df_bycue['postcue_avg'] = np.mean(df_bycue.iloc[:,57:97], axis=1)\n",
    "    #df_bycue.pivot('')\n",
    "    fig, ax = plt.subplots(figsize=(5,15)) \n",
    "    sns.heatmap(data, cmap='Spectral_r', ax=ax, xticklabels=time)\n"
   ]
  },
  {
   "cell_type": "code",
   "execution_count": null,
   "metadata": {},
   "outputs": [],
   "source": [
    "plot_heatmap('onset',list(range(0,164)),2)\n"
   ]
  },
  {
   "cell_type": "code",
   "execution_count": null,
   "metadata": {},
   "outputs": [],
   "source": [
    "def plot_trials(event, neuron_range, sound_range):\n",
    "    neurons = [f'neuron{i}' for i in neuron_range]\n",
    "    neur_dff_df = dff_df[dff_df['roi'].isin(neurons)].reset_index(drop=True)\n",
    "    df = gse.nbm.align_B2N_dff_ID(bdf, neur_dff_df, [event], form='wide')\n",
    "    time = np.arange(-2.00, 2.001, 0.05)\n",
    "    fig, axs = plt.subplots(len(neuron_range),len(sound_range),sharex=True, figsize=(16,12))\n",
    "    for neuron in df['roi'].unique():\n",
    "        df_byneuron = df[df['roi']==neuron]\n",
    "        num_counter = 0\n",
    "        for num in sound_range:\n",
    "            df_bycue = df_byneuron[(df_byneuron['sound_num']==num)]\n",
    "            counter = df_bycue.shape[0]\n",
    "            for index, trial in df_bycue.iterrows():\n",
    "                current_trial = np.array(trial[16:])\n",
    "                axs[num_counter].plot(time, (current_trial + counter))\n",
    "                axs[num_counter].axvline(0, ls='--', c='k',lw=1)\n",
    "                counter -=1\n",
    "            num_counter +=1"
   ]
  },
  {
   "cell_type": "code",
   "execution_count": null,
   "metadata": {
    "scrolled": false
   },
   "outputs": [],
   "source": [
    "plot_trials('onset',[58], [1,2,3,4,5,6,7,8])"
   ]
  },
  {
   "cell_type": "code",
   "execution_count": null,
   "metadata": {},
   "outputs": [],
   "source": []
  },
  {
   "cell_type": "markdown",
   "metadata": {},
   "source": [
    "### C. For go vs. no-go categories"
   ]
  },
  {
   "cell_type": "code",
   "execution_count": null,
   "metadata": {},
   "outputs": [],
   "source": [
    "def plot_gonogo(event, neuron_range, sound_range=list(range(1,17)), hue=None, x_axis=None, y_axis=None, palette=None):\n",
    "    neurons = [f'neuron{i}' for i in neuron_range]\n",
    "    neur_dff_df = dff_df[dff_df['roi'].isin(neurons)].reset_index(drop=True)\n",
    "    df = gse.nbm.align_B2N_dff_ID(bdf, neur_dff_df, [event], form='wide')\n",
    "    plot_df = gse.nbm.lag_wide_df(df, {f'{event}_neur': {'long':True}})\n",
    "    plot_df = plot_df[plot_df['sound_num'].isin(sound_range)]\n",
    "    plot_df_hits = plot_df[(plot_df['reward']!=-1)]\n",
    "    df_hits = df[(df['reward']!=-1)]\n",
    "    df_gonogo = df_hits[(df_hits['sound_num']<9)]\n",
    "    if x_axis is None:\n",
    "        x_axis = f'{event}_neur_time'\n",
    "    if y_axis is None:\n",
    "        y_axis = f'{event}_neur_ZdFF'\n",
    "    if palette is None:\n",
    "        palette = 'Spectral'\n",
    "    p = sns.relplot(data=plot_df, x=f'{event}_neur_time', y=f'{event}_neur_ZdFF', hue=hue, row='roi', col='go_nogo', ci='sd', kind='line', palette=palette)\n",
    "    p.set_xlabels(x_axis, fontsize = 15)\n",
    "    p.set_ylabels(y_axis, fontsize = 15)\n",
    "    mannwhitney = pd.DataFrame(index=[df['roi'].unique()], columns=['Go','No-go'])\n",
    "    for neuron in df['roi'].unique():\n",
    "        df_byneuron = df_gonogo[df_gonogo['roi']==neuron]\n",
    "        go_trials = df_byneuron[(df_byneuron['go_nogo']=='go')]\n",
    "        nogo_trials = df_byneuron[(df_byneuron['go_nogo']=='nogo')]    \n",
    "        go_prestim = (go_trials.iloc[:,16:56].describe()).loc['mean']\n",
    "        go_poststim = (go_trials.iloc[:,57:].describe()).loc['mean']\n",
    "        go_max_thres = np.mean(go_prestim) + (3*np.std(go_prestim))\n",
    "        go_min_thres = np.mean(go_prestim) - (3*np.std(go_prestim))\n",
    "        go_post_thres = np.mean(go_poststim)\n",
    "        nogo_prestim = (nogo_trials.iloc[:,16:56].describe()).loc['mean']\n",
    "        nogo_poststim = (nogo_trials.iloc[:,57:].describe()).loc['mean']\n",
    "        nogo_max_thres = np.mean(nogo_prestim) + (3*np.std(nogo_prestim))\n",
    "        nogo_min_thres = np.mean(nogo_prestim) - (3*np.std(nogo_prestim))\n",
    "        nogo_post_thres = np.mean(nogo_poststim)\n",
    "        go_mwu, go_pval = scipy.stats.mannwhitneyu(go_prestim, go_poststim, alternative='two-sided')\n",
    "        mannwhitney.loc[neuron,'Go'] = go_pval\n",
    "        nogo_mwu, nogo_pval = scipy.stats.mannwhitneyu(nogo_prestim, nogo_poststim, alternative='two-sided')\n",
    "        mannwhitney.loc[neuron,'No-go'] = nogo_pval\n",
    "    for ax in p.axes.ravel():\n",
    "        ax.axvline(0, ls='--', c='k',lw=2)\n",
    "    p.axes[0,0].axhline(go_max_thres, ls=':', c='k')\n",
    "    p.axes[0,0].axhline(go_min_thres, ls=':', c='k')\n",
    "    p.axes[0,0].axhline(go_post_thres, c='r')\n",
    "    p.axes[0,1].axhline(nogo_max_thres, ls=':', c='k')\n",
    "    p.axes[0,1].axhline(nogo_min_thres, ls=':', c='k')\n",
    "    p.axes[0,1].axhline(nogo_post_thres, c='r')\n",
    "    #for i, ax in enumerate(p.axes.flatten()):\n",
    "    #    ax.axhline(thresholds_min[i], ls=':', c='k')\n",
    "    #    ax.axhline(thresholds_max[i], ls=':', c='k')\n",
    "    #    ax.axhline(postthres[i],c='r')\n",
    "    return mannwhitney"
   ]
  },
  {
   "cell_type": "code",
   "execution_count": null,
   "metadata": {},
   "outputs": [],
   "source": [
    "plot_gonogo('onset',[0], \n",
    "           sound_range=[1,2,3,4,5,6,7,8],\n",
    "           hue='go_nogo', \n",
    "           x_axis=\"Time Relative to Cue Onset\", \n",
    "           y_axis=\"dF/F\",\n",
    "           palette='seismic')"
   ]
  },
  {
   "cell_type": "markdown",
   "metadata": {},
   "source": [
    "### D. Licking vs. Not Licking"
   ]
  },
  {
   "cell_type": "code",
   "execution_count": null,
   "metadata": {
    "scrolled": true
   },
   "outputs": [],
   "source": [
    "bdf"
   ]
  },
  {
   "cell_type": "code",
   "execution_count": null,
   "metadata": {},
   "outputs": [],
   "source": [
    "(false_alarm[false_alarm['sound_num'] == 8]).shape[0]"
   ]
  },
  {
   "cell_type": "code",
   "execution_count": null,
   "metadata": {},
   "outputs": [],
   "source": [
    "def licking(event, neuron_range, hue=None, x_axis=None, y_axis=None, palette=None):\n",
    "    #neurons = [f'neuron{i}' for i in neuron_range]\n",
    "    neur_dff_df = dff_df[dff_df['roi'].isin(neuron_range)].reset_index(drop=True)\n",
    "    df = gse.nbm.align_B2N_dff_ID(bdf, neur_dff_df, [event], form='wide')\n",
    "    df_nogo = df[df['go_nogo']=='nogo']\n",
    "    plot_df = gse.nbm.lag_wide_df(df_nogo, {f'{event}_neur': {'long':True}})\n",
    " #   wilcoxon = pd.DataFrame()\n",
    " #   wilcoxon_sig = pd.DataFrame()\n",
    "    p = sns.relplot(data=plot_df, x=f'{event}_neur_time', y=f'{event}_neur_ZdFF', hue=hue, row='roi', col='sound_num', ci='sd', kind='line', palette=palette)\n",
    "    p.set_xlabels(x_axis, fontsize = 15)\n",
    "    p.set_ylabels(y_axis, fontsize = 15)\n",
    "    \n",
    "    bdf_nogo = bdf[bdf['go_nogo']=='nogo']\n",
    "    correct_reject = bdf_nogo[bdf_nogo['reward'] == 0]\n",
    "    false_alarm = bdf_nogo[bdf_nogo['reward'] == -1]\n",
    "    counts = pd.DataFrame(0, index=['correct reject','false alarm'], columns=['cue5','cue6','cue7','cue8'])\n",
    "    counts.loc['correct reject','cue5'] = (correct_reject[correct_reject['sound_num'] == 5]).shape[0]\n",
    "    counts.loc['correct reject','cue6'] = (correct_reject[correct_reject['sound_num'] == 6]).shape[0]\n",
    "    counts.loc['correct reject','cue7'] = (correct_reject[correct_reject['sound_num'] == 7]).shape[0]\n",
    "    counts.loc['correct reject','cue8'] = (correct_reject[correct_reject['sound_num'] == 8]).shape[0]\n",
    "    counts.loc['false alarm','cue5'] = (false_alarm[false_alarm['sound_num'] == 5]).shape[0]\n",
    "    counts.loc['false alarm','cue6'] = (false_alarm[false_alarm['sound_num'] == 6]).shape[0]\n",
    "    counts.loc['false alarm','cue7'] = (false_alarm[false_alarm['sound_num'] == 7]).shape[0]\n",
    "    counts.loc['false alarm','cue8'] = (false_alarm[false_alarm['sound_num'] == 8]).shape[0]\n",
    "#    for neuron in df['roi'].unique():\n",
    "#        df_neur = df_nogo[df_nogo['roi']==neuron]\n",
    "#        df_lick = df_neur[(df_neur['go_nogo']=='nogo') & (df_neur['reward']==-1)]\n",
    "#        df_inhibit = df_nogo[(df_neur['go_nogo']=='nogo') & (df_nogo['reward']==0)]\n",
    "#        for num in sound_range:\n",
    "#            df_bycue = df_byneuron[(df_byneuron['sound_num']==num)]\n",
    "#            df_bycue['precue_avg'] = np.mean(df_bycue.iloc[:,16:56], axis=1)\n",
    "#            df_bycue['postcue_avg'] = np.mean(df_bycue.iloc[:,57:97], axis=1)\n",
    "#            stat, pval = scipy.stats.ranksums(df_bycue['precue_avg'], df_bycue['postcue_avg'])\n",
    "#            wilcoxon.loc[neuron,num] = pval\n",
    "#            if pval < 0.01:\n",
    "#                wilcoxon_sig.loc[neuron,num] = 1\n",
    "#            else:\n",
    "#                wilcoxon_sig.loc[neuron,num] = 0\n",
    "    for ax in p.axes.ravel():\n",
    "        ax.axvline(0, ls='--', c='k',lw=2)\n",
    "    return counts\n",
    "#    return wilcoxon, wilcoxon_sig"
   ]
  },
  {
   "cell_type": "code",
   "execution_count": null,
   "metadata": {},
   "outputs": [],
   "source": [
    "licking('onset',['neuron72'], \n",
    "           hue='reward', \n",
    "           x_axis=\"Time Relative to Cue Onset\", \n",
    "           y_axis=\"dF/F\",\n",
    "           palette='Spectral')"
   ]
  },
  {
   "cell_type": "code",
   "execution_count": null,
   "metadata": {},
   "outputs": [],
   "source": [
    "plot_thres('onset',[138], \n",
    "           sound_range=[1,2,3,4,5,6,7,8],\n",
    "           hue='sound_num', \n",
    "           x_axis=\"Time Relative to Cue Onset\", \n",
    "           y_axis=\"dF/F\",\n",
    "           palette='seismic')"
   ]
  },
  {
   "cell_type": "code",
   "execution_count": null,
   "metadata": {},
   "outputs": [],
   "source": [
    "# trial by trial plot; use df and sort by neuron"
   ]
  },
  {
   "cell_type": "markdown",
   "metadata": {},
   "source": [
    "# 5. auROC"
   ]
  },
  {
   "cell_type": "markdown",
   "metadata": {},
   "source": [
    "Adapted from Otis et al., 2017"
   ]
  },
  {
   "cell_type": "code",
   "execution_count": null,
   "metadata": {},
   "outputs": [],
   "source": [
    "import numpy as np\n",
    "import matplotlib.pyplot as plt\n",
    "%matplotlib inline\n",
    "import seaborn as sns\n",
    "import scipy.io as sio\n",
    "import os\n",
    "import subprocess\n",
    "import bisect\n",
    "import errno\n",
    "import time\n",
    "import pandas\n",
    "import pickle\n",
    "from sklearn.decomposition import PCA\n",
    "from sklearn.svm import SVC, SVR\n",
    "from sklearn.metrics import accuracy_score\n",
    "from sklearn import cross_validation # check this?? getting an error\n",
    "from sklearn.grid_search import GridSearchCV\n",
    "import scipy.stats as stats\n",
    "from sklearn.metrics import roc_auc_score as auROC\n",
    "import statsmodels.api as sm\n",
    "import statsmodels.formula.api as smf\n",
    "from statsmodels.distributions.empirical_distribution import ECDF\n",
    "import PIL\n",
    "from itertools import product\n",
    "import matplotlib.cm as cm\n",
    "import matplotlib.colors as colors\n",
    "import matplotlib.colorbar as colorbar"
   ]
  },
  {
   "cell_type": "code",
   "execution_count": null,
   "metadata": {},
   "outputs": [],
   "source": []
  }
 ],
 "metadata": {
  "kernelspec": {
   "display_name": "Python 3 (ipykernel)",
   "language": "python",
   "name": "python3"
  },
  "language_info": {
   "codemirror_mode": {
    "name": "ipython",
    "version": 3
   },
   "file_extension": ".py",
   "mimetype": "text/x-python",
   "name": "python",
   "nbconvert_exporter": "python",
   "pygments_lexer": "ipython3",
   "version": "3.9.12"
  }
 },
 "nbformat": 4,
 "nbformat_minor": 1
}
