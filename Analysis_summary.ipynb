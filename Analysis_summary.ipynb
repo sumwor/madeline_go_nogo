{
 "cells": [
  {
   "cell_type": "markdown",
   "source": [
    "## 1. Convert Behavioral Output File to Required Trial-by-Trial Format\n",
    "Here, we convert the behavioral data into a useable format, where each row of the DataFrame corresponds to a trial. This can then be aligned with Ca2+ data.\n",
    "### A. Setup\n"
   ],
   "metadata": {
    "collapsed": false
   }
  },
  {
   "cell_type": "code",
   "execution_count": 1,
   "outputs": [],
   "source": [
    "from behavior_base import *\n",
    "from behavioral_pipeline import GoNogoBehaviorMat\n",
    "import h5py\n",
    "import numpy as np\n",
    "import os\n",
    "import pandas as pd\n",
    "import re\n",
    "import glob\n",
    "from tqdm import tqdm\n",
    "import matplotlib.pyplot as plt"
   ],
   "metadata": {
    "collapsed": false
   }
  },
  {
   "cell_type": "code",
   "execution_count": 2,
   "outputs": [
    {
     "data": {
      "text/plain": "<IPython.core.display.HTML object>",
      "text/html": "<style>.container { width:100% !important; }</style>"
     },
     "metadata": {},
     "output_type": "display_data"
    }
   ],
   "source": [
    "# to increase width of notebook display\n",
    "from IPython.display import display, HTML\n",
    "display(HTML(\"<style>.container { width:100% !important; }</style>\"))\n"
   ],
   "metadata": {
    "collapsed": false
   }
  },
  {
   "cell_type": "markdown",
   "source": [
    "### B. specify the root directory for data and analysis\n"
   ],
   "metadata": {
    "collapsed": false
   }
  },
  {
   "cell_type": "code",
   "execution_count": 3,
   "outputs": [],
   "source": [
    "root_dir = r'X:\\HongliWang\\Madeline'\n",
    "raw_beh = 'processed_behavior'\n",
    "raw_fluo = 'raw_imaging'\n",
    "\n",
    "# specify saved files\n",
    "analysis_dir = 'analysis'\n",
    "analysis_beh = 'behavior'\n"
   ],
   "metadata": {
    "collapsed": false
   }
  },
  {
   "cell_type": "markdown",
   "source": [
    "### C. Go through behavior folders, go through the behavior analysis for every session, save the analysis result, create a dataframe for all available sessions"
   ],
   "metadata": {
    "collapsed": false
   }
  },
  {
   "cell_type": "code",
   "execution_count": 4,
   "outputs": [],
   "source": [
    "animals = os.listdir(os.path.join(root_dir,raw_beh))\n",
    "\n",
    "# initialize the dataframe\n",
    "columns = ['file','file_path','date', 'subject', 'age', 'saved_dir']\n",
    "beh_df = pd.DataFrame(columns=columns)\n",
    "\n",
    "# go through the files to update the dataframe\n",
    "for animal in animals:\n",
    "    animal_path = os.path.join(root_dir, raw_beh, animal)\n",
    "    sessions = glob.glob(os.path.join(animal_path, animal + '*'+'-behaviorLOG.mat'))\n",
    "    Ind = 0\n",
    "    for session in sessions:\n",
    "        separated = os.path.basename(session).split(\"-\")\n",
    "        data = pd.DataFrame({\n",
    "            'file': os.path.basename(session),\n",
    "            'file_path': session,\n",
    "            'date': separated[1],\n",
    "            'subject': animal,\n",
    "            'age': animal[0:3],\n",
    "            'saved_dir': os.path.join(root_dir, analysis_dir, analysis_beh, animal,separated[1])\n",
    "        },index=[Ind])\n",
    "        Ind = Ind + 1\n",
    "        beh_df = pd.concat([beh_df, data])\n",
    "    # get all needed sessions\n",
    "\n"
   ],
   "metadata": {
    "collapsed": false
   }
  },
  {
   "cell_type": "code",
   "execution_count": 5,
   "outputs": [
    {
     "data": {
      "text/plain": "                             file  \\\n0   ADT001-211210-behaviorLOG.mat   \n1   ADT001-211211-behaviorLOG.mat   \n2   ADT001-211212-behaviorLOG.mat   \n3   ADT001-211213-behaviorLOG.mat   \n4   ADT001-211214-behaviorLOG.mat   \n..                            ...   \n12  JUV016-220411-behaviorLOG.mat   \n13  JUV016-220412-behaviorLOG.mat   \n14  JUV016-220413-behaviorLOG.mat   \n15  JUV016-220414-behaviorLOG.mat   \n16  JUV016-220415-behaviorLOG.mat   \n\n                                            file_path    date subject  age  \\\n0   X:\\HongliWang\\Madeline\\processed_behavior\\ADT0...  211210  ADT001  ADT   \n1   X:\\HongliWang\\Madeline\\processed_behavior\\ADT0...  211211  ADT001  ADT   \n2   X:\\HongliWang\\Madeline\\processed_behavior\\ADT0...  211212  ADT001  ADT   \n3   X:\\HongliWang\\Madeline\\processed_behavior\\ADT0...  211213  ADT001  ADT   \n4   X:\\HongliWang\\Madeline\\processed_behavior\\ADT0...  211214  ADT001  ADT   \n..                                                ...     ...     ...  ...   \n12  X:\\HongliWang\\Madeline\\processed_behavior\\JUV0...  220411  JUV016  JUV   \n13  X:\\HongliWang\\Madeline\\processed_behavior\\JUV0...  220412  JUV016  JUV   \n14  X:\\HongliWang\\Madeline\\processed_behavior\\JUV0...  220413  JUV016  JUV   \n15  X:\\HongliWang\\Madeline\\processed_behavior\\JUV0...  220414  JUV016  JUV   \n16  X:\\HongliWang\\Madeline\\processed_behavior\\JUV0...  220415  JUV016  JUV   \n\n                                            saved_dir  \n0   X:\\HongliWang\\Madeline\\analysis\\behavior\\ADT00...  \n1   X:\\HongliWang\\Madeline\\analysis\\behavior\\ADT00...  \n2   X:\\HongliWang\\Madeline\\analysis\\behavior\\ADT00...  \n3   X:\\HongliWang\\Madeline\\analysis\\behavior\\ADT00...  \n4   X:\\HongliWang\\Madeline\\analysis\\behavior\\ADT00...  \n..                                                ...  \n12  X:\\HongliWang\\Madeline\\analysis\\behavior\\JUV01...  \n13  X:\\HongliWang\\Madeline\\analysis\\behavior\\JUV01...  \n14  X:\\HongliWang\\Madeline\\analysis\\behavior\\JUV01...  \n15  X:\\HongliWang\\Madeline\\analysis\\behavior\\JUV01...  \n16  X:\\HongliWang\\Madeline\\analysis\\behavior\\JUV01...  \n\n[296 rows x 6 columns]",
      "text/html": "<div>\n<style scoped>\n    .dataframe tbody tr th:only-of-type {\n        vertical-align: middle;\n    }\n\n    .dataframe tbody tr th {\n        vertical-align: top;\n    }\n\n    .dataframe thead th {\n        text-align: right;\n    }\n</style>\n<table border=\"1\" class=\"dataframe\">\n  <thead>\n    <tr style=\"text-align: right;\">\n      <th></th>\n      <th>file</th>\n      <th>file_path</th>\n      <th>date</th>\n      <th>subject</th>\n      <th>age</th>\n      <th>saved_dir</th>\n    </tr>\n  </thead>\n  <tbody>\n    <tr>\n      <th>0</th>\n      <td>ADT001-211210-behaviorLOG.mat</td>\n      <td>X:\\HongliWang\\Madeline\\processed_behavior\\ADT0...</td>\n      <td>211210</td>\n      <td>ADT001</td>\n      <td>ADT</td>\n      <td>X:\\HongliWang\\Madeline\\analysis\\behavior\\ADT00...</td>\n    </tr>\n    <tr>\n      <th>1</th>\n      <td>ADT001-211211-behaviorLOG.mat</td>\n      <td>X:\\HongliWang\\Madeline\\processed_behavior\\ADT0...</td>\n      <td>211211</td>\n      <td>ADT001</td>\n      <td>ADT</td>\n      <td>X:\\HongliWang\\Madeline\\analysis\\behavior\\ADT00...</td>\n    </tr>\n    <tr>\n      <th>2</th>\n      <td>ADT001-211212-behaviorLOG.mat</td>\n      <td>X:\\HongliWang\\Madeline\\processed_behavior\\ADT0...</td>\n      <td>211212</td>\n      <td>ADT001</td>\n      <td>ADT</td>\n      <td>X:\\HongliWang\\Madeline\\analysis\\behavior\\ADT00...</td>\n    </tr>\n    <tr>\n      <th>3</th>\n      <td>ADT001-211213-behaviorLOG.mat</td>\n      <td>X:\\HongliWang\\Madeline\\processed_behavior\\ADT0...</td>\n      <td>211213</td>\n      <td>ADT001</td>\n      <td>ADT</td>\n      <td>X:\\HongliWang\\Madeline\\analysis\\behavior\\ADT00...</td>\n    </tr>\n    <tr>\n      <th>4</th>\n      <td>ADT001-211214-behaviorLOG.mat</td>\n      <td>X:\\HongliWang\\Madeline\\processed_behavior\\ADT0...</td>\n      <td>211214</td>\n      <td>ADT001</td>\n      <td>ADT</td>\n      <td>X:\\HongliWang\\Madeline\\analysis\\behavior\\ADT00...</td>\n    </tr>\n    <tr>\n      <th>...</th>\n      <td>...</td>\n      <td>...</td>\n      <td>...</td>\n      <td>...</td>\n      <td>...</td>\n      <td>...</td>\n    </tr>\n    <tr>\n      <th>12</th>\n      <td>JUV016-220411-behaviorLOG.mat</td>\n      <td>X:\\HongliWang\\Madeline\\processed_behavior\\JUV0...</td>\n      <td>220411</td>\n      <td>JUV016</td>\n      <td>JUV</td>\n      <td>X:\\HongliWang\\Madeline\\analysis\\behavior\\JUV01...</td>\n    </tr>\n    <tr>\n      <th>13</th>\n      <td>JUV016-220412-behaviorLOG.mat</td>\n      <td>X:\\HongliWang\\Madeline\\processed_behavior\\JUV0...</td>\n      <td>220412</td>\n      <td>JUV016</td>\n      <td>JUV</td>\n      <td>X:\\HongliWang\\Madeline\\analysis\\behavior\\JUV01...</td>\n    </tr>\n    <tr>\n      <th>14</th>\n      <td>JUV016-220413-behaviorLOG.mat</td>\n      <td>X:\\HongliWang\\Madeline\\processed_behavior\\JUV0...</td>\n      <td>220413</td>\n      <td>JUV016</td>\n      <td>JUV</td>\n      <td>X:\\HongliWang\\Madeline\\analysis\\behavior\\JUV01...</td>\n    </tr>\n    <tr>\n      <th>15</th>\n      <td>JUV016-220414-behaviorLOG.mat</td>\n      <td>X:\\HongliWang\\Madeline\\processed_behavior\\JUV0...</td>\n      <td>220414</td>\n      <td>JUV016</td>\n      <td>JUV</td>\n      <td>X:\\HongliWang\\Madeline\\analysis\\behavior\\JUV01...</td>\n    </tr>\n    <tr>\n      <th>16</th>\n      <td>JUV016-220415-behaviorLOG.mat</td>\n      <td>X:\\HongliWang\\Madeline\\processed_behavior\\JUV0...</td>\n      <td>220415</td>\n      <td>JUV016</td>\n      <td>JUV</td>\n      <td>X:\\HongliWang\\Madeline\\analysis\\behavior\\JUV01...</td>\n    </tr>\n  </tbody>\n</table>\n<p>296 rows × 6 columns</p>\n</div>"
     },
     "execution_count": 5,
     "metadata": {},
     "output_type": "execute_result"
    }
   ],
   "source": [
    "beh_df"
   ],
   "metadata": {
    "collapsed": false
   }
  },
  {
   "cell_type": "markdown",
   "source": [
    "### run analysis and make plots for every session"
   ],
   "metadata": {
    "collapsed": false
   }
  },
  {
   "cell_type": "code",
   "execution_count": 6,
   "outputs": [
    {
     "name": "stderr",
     "output_type": "stream",
     "text": [
      "  0%|          | 0/296 [00:23<?, ?it/s]\n"
     ]
    },
    {
     "ename": "KeyboardInterrupt",
     "evalue": "",
     "output_type": "error",
     "traceback": [
      "\u001B[1;31m---------------------------------------------------------------------------\u001B[0m",
      "\u001B[1;31mKeyboardInterrupt\u001B[0m                         Traceback (most recent call last)",
      "Cell \u001B[1;32mIn[6], line 15\u001B[0m\n\u001B[0;32m     12\u001B[0m x\u001B[38;5;241m.\u001B[39md_prime()\n\u001B[0;32m     14\u001B[0m \u001B[38;5;66;03m# make plot\u001B[39;00m\n\u001B[1;32m---> 15\u001B[0m \u001B[43mx\u001B[49m\u001B[38;5;241;43m.\u001B[39;49m\u001B[43mbeh_session\u001B[49m\u001B[43m(\u001B[49m\u001B[43mplot_path\u001B[49m\u001B[43m)\u001B[49m\n\u001B[0;32m     16\u001B[0m x\u001B[38;5;241m.\u001B[39mpsycho_curve(plot_path)\n\u001B[0;32m     17\u001B[0m x\u001B[38;5;241m.\u001B[39mlick_rate(plot_path)\n",
      "File \u001B[1;32m~\\Documents\\GitHub\\madeline_go_nogo\\behavioral_pipeline.py:300\u001B[0m, in \u001B[0;36mGoNogoBehaviorMat.beh_session\u001B[1;34m(self, save_path)\u001B[0m\n\u001B[0;32m    297\u001B[0m \u001B[38;5;66;03m#legend.get_frame().set_linewidth(0.0)\u001B[39;00m\n\u001B[0;32m    298\u001B[0m \u001B[38;5;66;03m#legend.get_frame().set_facecolor('none')\u001B[39;00m\n\u001B[0;32m    299\u001B[0m beh_plots\u001B[38;5;241m.\u001B[39mfig\u001B[38;5;241m.\u001B[39mset_figwidth(\u001B[38;5;241m40\u001B[39m)\n\u001B[1;32m--> 300\u001B[0m \u001B[43mplt\u001B[49m\u001B[38;5;241;43m.\u001B[39;49m\u001B[43mshow\u001B[49m\u001B[43m(\u001B[49m\u001B[43m)\u001B[49m\n\u001B[0;32m    302\u001B[0m \u001B[38;5;66;03m# save the plot\u001B[39;00m\n\u001B[0;32m    303\u001B[0m beh_plots\u001B[38;5;241m.\u001B[39msave_plot(\u001B[38;5;124m'\u001B[39m\u001B[38;5;124mBehavior summary.svg\u001B[39m\u001B[38;5;124m'\u001B[39m, \u001B[38;5;124m'\u001B[39m\u001B[38;5;124msvg\u001B[39m\u001B[38;5;124m'\u001B[39m, save_path)\n",
      "File \u001B[1;32m~\\miniconda3\\envs\\madeline_go_nogo\\lib\\site-packages\\matplotlib\\pyplot.py:446\u001B[0m, in \u001B[0;36mshow\u001B[1;34m(*args, **kwargs)\u001B[0m\n\u001B[0;32m    402\u001B[0m \u001B[38;5;250m\u001B[39m\u001B[38;5;124;03m\"\"\"\u001B[39;00m\n\u001B[0;32m    403\u001B[0m \u001B[38;5;124;03mDisplay all open figures.\u001B[39;00m\n\u001B[0;32m    404\u001B[0m \n\u001B[1;32m   (...)\u001B[0m\n\u001B[0;32m    443\u001B[0m \u001B[38;5;124;03mexplicitly there.\u001B[39;00m\n\u001B[0;32m    444\u001B[0m \u001B[38;5;124;03m\"\"\"\u001B[39;00m\n\u001B[0;32m    445\u001B[0m _warn_if_gui_out_of_main_thread()\n\u001B[1;32m--> 446\u001B[0m \u001B[38;5;28;01mreturn\u001B[39;00m _get_backend_mod()\u001B[38;5;241m.\u001B[39mshow(\u001B[38;5;241m*\u001B[39margs, \u001B[38;5;241m*\u001B[39m\u001B[38;5;241m*\u001B[39mkwargs)\n",
      "File \u001B[1;32m~\\miniconda3\\envs\\madeline_go_nogo\\lib\\site-packages\\matplotlib\\backend_bases.py:3620\u001B[0m, in \u001B[0;36m_Backend.show\u001B[1;34m(cls, block)\u001B[0m\n\u001B[0;32m   3618\u001B[0m     block \u001B[38;5;241m=\u001B[39m \u001B[38;5;129;01mnot\u001B[39;00m ipython_pylab \u001B[38;5;129;01mand\u001B[39;00m \u001B[38;5;129;01mnot\u001B[39;00m is_interactive()\n\u001B[0;32m   3619\u001B[0m \u001B[38;5;28;01mif\u001B[39;00m block:\n\u001B[1;32m-> 3620\u001B[0m     \u001B[38;5;28;43mcls\u001B[39;49m\u001B[38;5;241;43m.\u001B[39;49m\u001B[43mmainloop\u001B[49m\u001B[43m(\u001B[49m\u001B[43m)\u001B[49m\n",
      "File \u001B[1;32m~\\miniconda3\\envs\\madeline_go_nogo\\lib\\site-packages\\matplotlib\\backends\\backend_qt.py:605\u001B[0m, in \u001B[0;36mFigureManagerQT.start_main_loop\u001B[1;34m(cls)\u001B[0m\n\u001B[0;32m    603\u001B[0m \u001B[38;5;28;01mif\u001B[39;00m qapp:\n\u001B[0;32m    604\u001B[0m     \u001B[38;5;28;01mwith\u001B[39;00m _maybe_allow_interrupt(qapp):\n\u001B[1;32m--> 605\u001B[0m         qt_compat\u001B[38;5;241m.\u001B[39m_exec(qapp)\n",
      "File \u001B[1;32m~\\miniconda3\\envs\\madeline_go_nogo\\lib\\contextlib.py:126\u001B[0m, in \u001B[0;36m_GeneratorContextManager.__exit__\u001B[1;34m(self, typ, value, traceback)\u001B[0m\n\u001B[0;32m    124\u001B[0m \u001B[38;5;28;01mif\u001B[39;00m typ \u001B[38;5;129;01mis\u001B[39;00m \u001B[38;5;28;01mNone\u001B[39;00m:\n\u001B[0;32m    125\u001B[0m     \u001B[38;5;28;01mtry\u001B[39;00m:\n\u001B[1;32m--> 126\u001B[0m         \u001B[38;5;28;43mnext\u001B[39;49m\u001B[43m(\u001B[49m\u001B[38;5;28;43mself\u001B[39;49m\u001B[38;5;241;43m.\u001B[39;49m\u001B[43mgen\u001B[49m\u001B[43m)\u001B[49m\n\u001B[0;32m    127\u001B[0m     \u001B[38;5;28;01mexcept\u001B[39;00m \u001B[38;5;167;01mStopIteration\u001B[39;00m:\n\u001B[0;32m    128\u001B[0m         \u001B[38;5;28;01mreturn\u001B[39;00m \u001B[38;5;28;01mFalse\u001B[39;00m\n",
      "File \u001B[1;32m~\\miniconda3\\envs\\madeline_go_nogo\\lib\\site-packages\\matplotlib\\backends\\qt_compat.py:245\u001B[0m, in \u001B[0;36m_maybe_allow_interrupt\u001B[1;34m(qapp)\u001B[0m\n\u001B[0;32m    243\u001B[0m signal\u001B[38;5;241m.\u001B[39msignal(signal\u001B[38;5;241m.\u001B[39mSIGINT, old_sigint_handler)\n\u001B[0;32m    244\u001B[0m \u001B[38;5;28;01mif\u001B[39;00m handler_args \u001B[38;5;129;01mis\u001B[39;00m \u001B[38;5;129;01mnot\u001B[39;00m \u001B[38;5;28;01mNone\u001B[39;00m:\n\u001B[1;32m--> 245\u001B[0m     \u001B[43mold_sigint_handler\u001B[49m\u001B[43m(\u001B[49m\u001B[38;5;241;43m*\u001B[39;49m\u001B[43mhandler_args\u001B[49m\u001B[43m)\u001B[49m\n",
      "\u001B[1;31mKeyboardInterrupt\u001B[0m: "
     ]
    }
   ],
   "source": [
    "nFiles = len(beh_df['file'])\n",
    "for f in tqdm(range(nFiles)):\n",
    "    animal = beh_df.iloc[f]['subject']\n",
    "    session = beh_df.iloc[f]['date']\n",
    "    input_path = beh_df.iloc[f]['file_path']\n",
    "    x = GoNogoBehaviorMat(animal, session, input_path)\n",
    "    x.to_df()\n",
    "    output_path= beh_df.iloc[f]['saved_dir']\n",
    "    plot_path = os.path.join(output_path, 'beh_plot')\n",
    "\n",
    "    # run analysis_beh\n",
    "    x.d_prime()\n",
    "\n",
    "    # make plot\n",
    "    x.beh_session(plot_path)\n",
    "    x.psycho_curve(plot_path)\n",
    "    x.lick_rate(plot_path)\n",
    "    x.ITI_distribution(plot_path)\n",
    "    x.response_time(plot_path)\n",
    "    x.running_aligned('onset')\n",
    "    x.running_aligned('outcome')\n",
    "    x.running_aligned('licks')\n",
    "\n",
    "    plt.close('all')\n",
    "    x.save_analysis(output_path)\n",
    "\n"
   ],
   "metadata": {
    "collapsed": false
   }
  },
  {
   "cell_type": "code",
   "execution_count": 36,
   "outputs": [
    {
     "ename": "OSError",
     "evalue": "Unable to open file (file signature not found)",
     "output_type": "error",
     "traceback": [
      "\u001B[1;31m---------------------------------------------------------------------------\u001B[0m",
      "\u001B[1;31mOSError\u001B[0m                                   Traceback (most recent call last)",
      "Cell \u001B[1;32mIn[36], line 1\u001B[0m\n\u001B[1;32m----> 1\u001B[0m x \u001B[38;5;241m=\u001B[39m \u001B[43mGoNogoBehaviorMat\u001B[49m\u001B[43m(\u001B[49m\u001B[43manimal\u001B[49m\u001B[43m,\u001B[49m\u001B[43m \u001B[49m\u001B[43msession\u001B[49m\u001B[43m,\u001B[49m\u001B[43m \u001B[49m\u001B[43minput_path\u001B[49m\u001B[43m)\u001B[49m\n",
      "File \u001B[1;32m~\\Documents\\GitHub\\madeline_go_nogo\\behavioral_pipeline.py:85\u001B[0m, in \u001B[0;36m__init__\u001B[1;34m(self, animal, session, hfile)\u001B[0m\n\u001B[0;32m     81\u001B[0m     code_map[(\u001B[38;5;241m700\u001B[39m \u001B[38;5;241m+\u001B[39m i) \u001B[38;5;241m/\u001B[39m \u001B[38;5;241m100\u001B[39m] \u001B[38;5;241m=\u001B[39m (\u001B[38;5;124m'\u001B[39m\u001B[38;5;124msound_on\u001B[39m\u001B[38;5;124m'\u001B[39m, \u001B[38;5;28mstr\u001B[39m(i))\n\u001B[0;32m     83\u001B[0m fields \u001B[38;5;241m=\u001B[39m [\u001B[38;5;124m'\u001B[39m\u001B[38;5;124monset\u001B[39m\u001B[38;5;124m'\u001B[39m, \u001B[38;5;124m'\u001B[39m\u001B[38;5;124mfirst_lick_in\u001B[39m\u001B[38;5;124m'\u001B[39m, \u001B[38;5;124m'\u001B[39m\u001B[38;5;124mlast_lick_out\u001B[39m\u001B[38;5;124m'\u001B[39m, \u001B[38;5;124m'\u001B[39m\u001B[38;5;124mwater_valve_on\u001B[39m\u001B[38;5;124m'\u001B[39m, \u001B[38;5;124m'\u001B[39m\u001B[38;5;124moutcome\u001B[39m\u001B[38;5;124m'\u001B[39m, \u001B[38;5;124m'\u001B[39m\u001B[38;5;124mlicks\u001B[39m\u001B[38;5;124m'\u001B[39m,\u001B[38;5;124m'\u001B[39m\u001B[38;5;124mrunning_speed\u001B[39m\u001B[38;5;124m'\u001B[39m,\u001B[38;5;124m'\u001B[39m\u001B[38;5;124mtime_0\u001B[39m\u001B[38;5;124m'\u001B[39m]\n\u001B[1;32m---> 85\u001B[0m time_unit \u001B[38;5;241m=\u001B[39m \u001B[38;5;124m'\u001B[39m\u001B[38;5;124ms\u001B[39m\u001B[38;5;124m'\u001B[39m\n\u001B[0;32m     87\u001B[0m \u001B[38;5;28;01mdef\u001B[39;00m \u001B[38;5;21m__init__\u001B[39m(\u001B[38;5;28mself\u001B[39m, animal, session, hfile):\n\u001B[0;32m     88\u001B[0m     \u001B[38;5;28msuper\u001B[39m()\u001B[38;5;241m.\u001B[39m\u001B[38;5;21m__init__\u001B[39m(animal, session)\n",
      "File \u001B[1;32m~\\miniconda3\\envs\\madeline_go_nogo\\lib\\site-packages\\h5py\\_hl\\files.py:567\u001B[0m, in \u001B[0;36mFile.__init__\u001B[1;34m(self, name, mode, driver, libver, userblock_size, swmr, rdcc_nslots, rdcc_nbytes, rdcc_w0, track_order, fs_strategy, fs_persist, fs_threshold, fs_page_size, page_buf_size, min_meta_keep, min_raw_keep, locking, alignment_threshold, alignment_interval, meta_block_size, **kwds)\u001B[0m\n\u001B[0;32m    558\u001B[0m     fapl \u001B[38;5;241m=\u001B[39m make_fapl(driver, libver, rdcc_nslots, rdcc_nbytes, rdcc_w0,\n\u001B[0;32m    559\u001B[0m                      locking, page_buf_size, min_meta_keep, min_raw_keep,\n\u001B[0;32m    560\u001B[0m                      alignment_threshold\u001B[38;5;241m=\u001B[39malignment_threshold,\n\u001B[0;32m    561\u001B[0m                      alignment_interval\u001B[38;5;241m=\u001B[39malignment_interval,\n\u001B[0;32m    562\u001B[0m                      meta_block_size\u001B[38;5;241m=\u001B[39mmeta_block_size,\n\u001B[0;32m    563\u001B[0m                      \u001B[38;5;241m*\u001B[39m\u001B[38;5;241m*\u001B[39mkwds)\n\u001B[0;32m    564\u001B[0m     fcpl \u001B[38;5;241m=\u001B[39m make_fcpl(track_order\u001B[38;5;241m=\u001B[39mtrack_order, fs_strategy\u001B[38;5;241m=\u001B[39mfs_strategy,\n\u001B[0;32m    565\u001B[0m                      fs_persist\u001B[38;5;241m=\u001B[39mfs_persist, fs_threshold\u001B[38;5;241m=\u001B[39mfs_threshold,\n\u001B[0;32m    566\u001B[0m                      fs_page_size\u001B[38;5;241m=\u001B[39mfs_page_size)\n\u001B[1;32m--> 567\u001B[0m     fid \u001B[38;5;241m=\u001B[39m \u001B[43mmake_fid\u001B[49m\u001B[43m(\u001B[49m\u001B[43mname\u001B[49m\u001B[43m,\u001B[49m\u001B[43m \u001B[49m\u001B[43mmode\u001B[49m\u001B[43m,\u001B[49m\u001B[43m \u001B[49m\u001B[43muserblock_size\u001B[49m\u001B[43m,\u001B[49m\u001B[43m \u001B[49m\u001B[43mfapl\u001B[49m\u001B[43m,\u001B[49m\u001B[43m \u001B[49m\u001B[43mfcpl\u001B[49m\u001B[43m,\u001B[49m\u001B[43m \u001B[49m\u001B[43mswmr\u001B[49m\u001B[38;5;241;43m=\u001B[39;49m\u001B[43mswmr\u001B[49m\u001B[43m)\u001B[49m\n\u001B[0;32m    569\u001B[0m \u001B[38;5;28;01mif\u001B[39;00m \u001B[38;5;28misinstance\u001B[39m(libver, \u001B[38;5;28mtuple\u001B[39m):\n\u001B[0;32m    570\u001B[0m     \u001B[38;5;28mself\u001B[39m\u001B[38;5;241m.\u001B[39m_libver \u001B[38;5;241m=\u001B[39m libver\n",
      "File \u001B[1;32m~\\miniconda3\\envs\\madeline_go_nogo\\lib\\site-packages\\h5py\\_hl\\files.py:231\u001B[0m, in \u001B[0;36mmake_fid\u001B[1;34m(name, mode, userblock_size, fapl, fcpl, swmr)\u001B[0m\n\u001B[0;32m    229\u001B[0m     \u001B[38;5;28;01mif\u001B[39;00m swmr \u001B[38;5;129;01mand\u001B[39;00m swmr_support:\n\u001B[0;32m    230\u001B[0m         flags \u001B[38;5;241m|\u001B[39m\u001B[38;5;241m=\u001B[39m h5f\u001B[38;5;241m.\u001B[39mACC_SWMR_READ\n\u001B[1;32m--> 231\u001B[0m     fid \u001B[38;5;241m=\u001B[39m \u001B[43mh5f\u001B[49m\u001B[38;5;241;43m.\u001B[39;49m\u001B[43mopen\u001B[49m\u001B[43m(\u001B[49m\u001B[43mname\u001B[49m\u001B[43m,\u001B[49m\u001B[43m \u001B[49m\u001B[43mflags\u001B[49m\u001B[43m,\u001B[49m\u001B[43m \u001B[49m\u001B[43mfapl\u001B[49m\u001B[38;5;241;43m=\u001B[39;49m\u001B[43mfapl\u001B[49m\u001B[43m)\u001B[49m\n\u001B[0;32m    232\u001B[0m \u001B[38;5;28;01melif\u001B[39;00m mode \u001B[38;5;241m==\u001B[39m \u001B[38;5;124m'\u001B[39m\u001B[38;5;124mr+\u001B[39m\u001B[38;5;124m'\u001B[39m:\n\u001B[0;32m    233\u001B[0m     fid \u001B[38;5;241m=\u001B[39m h5f\u001B[38;5;241m.\u001B[39mopen(name, h5f\u001B[38;5;241m.\u001B[39mACC_RDWR, fapl\u001B[38;5;241m=\u001B[39mfapl)\n",
      "File \u001B[1;32mh5py\\_objects.pyx:54\u001B[0m, in \u001B[0;36mh5py._objects.with_phil.wrapper\u001B[1;34m()\u001B[0m\n",
      "File \u001B[1;32mh5py\\_objects.pyx:55\u001B[0m, in \u001B[0;36mh5py._objects.with_phil.wrapper\u001B[1;34m()\u001B[0m\n",
      "File \u001B[1;32mh5py\\h5f.pyx:106\u001B[0m, in \u001B[0;36mh5py.h5f.open\u001B[1;34m()\u001B[0m\n",
      "\u001B[1;31mOSError\u001B[0m: Unable to open file (file signature not found)"
     ]
    }
   ],
   "source": [
    "x = GoNogoBehaviorMat(animal, session, input_path)"
   ],
   "metadata": {
    "collapsed": false
   }
  },
  {
   "cell_type": "code",
   "execution_count": null,
   "outputs": [],
   "source": [],
   "metadata": {
    "collapsed": false
   }
  }
 ],
 "metadata": {
  "kernelspec": {
   "display_name": "Python 3",
   "language": "python",
   "name": "python3"
  },
  "language_info": {
   "codemirror_mode": {
    "name": "ipython",
    "version": 2
   },
   "file_extension": ".py",
   "mimetype": "text/x-python",
   "name": "python",
   "nbconvert_exporter": "python",
   "pygments_lexer": "ipython2",
   "version": "2.7.6"
  }
 },
 "nbformat": 4,
 "nbformat_minor": 0
}
