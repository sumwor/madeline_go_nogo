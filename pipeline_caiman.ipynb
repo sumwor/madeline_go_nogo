{
 "cells": [
  {
   "cell_type": "markdown",
   "metadata": {},
   "source": [
    "## Process outline"
   ]
  },
  {
   "cell_type": "code",
   "execution_count": 1,
   "metadata": {},
   "outputs": [],
   "source": [
    "from merge_tiff import *\n",
    "from caiman_process import *\n",
    "from data_proc import *\n",
    "import tifffile\n",
    "import caiman as cm\n",
    "from caiman.source_extraction.cnmf import cnmf as cnmf\n",
    "from caiman.motion_correction import MotionCorrect\n",
    "from caiman.source_extraction.cnmf.utilities import detrend_df_f\n",
    "from caiman.components_evaluation import estimate_components_quality_auto, estimate_components_quality\n",
    "import os, h5py\n",
    "import numpy as np\n",
    "import matplotlib.pyplot as plt\n",
    "from scipy.sparse import csc_matrix\n",
    "import scipy\n",
    "from scipy.stats import norm"
   ]
  },
  {
   "cell_type": "markdown",
   "metadata": {},
   "source": [
    "### File structure\n",
    "\n",
    "* input: Madeline's raw data that lives in a folder with a **fixed component(*MEK*)** and a **changing component(*number*)** -> madeline already has that"
   ]
  },
  {
   "cell_type": "code",
   "execution_count": 3,
   "metadata": {
    "scrolled": true
   },
   "outputs": [
    {
     "name": "stdout",
     "output_type": "stream",
     "text": [
      ".DS_Store\n",
      "ADT001\n",
      "ADT002\n",
      "JUV010\n",
      "JUV011\n",
      "JUV012\n",
      "JUV013\n"
     ]
    }
   ],
   "source": [
    "folder = '\\\\\\\\filenest.diskstation.me\\\\Wilbrecht_file_server\\\\Madeline\\\\raw_imaging'\n",
    "for i, f in enumerate(os.listdir(folder)):\n",
    "    if i < 20:\n",
    "        print(f)"
   ]
  },
  {
   "cell_type": "markdown",
   "metadata": {},
   "source": [
    "#### Step 1:\n",
    "* take the directory structure, merge this series of images into one giant tif file (using merge_tiff.py with examples found in `merge_tiff.py`)\n",
    "``` python\n",
    "# input tiff_files\n",
    "merged = merge_tiff(tiff_files ...)\n",
    "# merged will be a filename \n",
    "```"
   ]
  },
  {
   "cell_type": "code",
   "execution_count": 5,
   "metadata": {},
   "outputs": [],
   "source": [
    "outpath = '/Users/albertqu/Documents/7.Research/Wilbrecht_Lab/madeline_analysis/data'\n",
    "outfile = merge_tiff_from_folder(folder, outpath)"
   ]
  },
  {
   "cell_type": "markdown",
   "metadata": {},
   "source": [
    "#### Step 2: Example usage of possible output"
   ]
  },
  {
   "cell_type": "code",
   "execution_count": 6,
   "metadata": {},
   "outputs": [],
   "source": [
    "root_folder = '/Users/albertqu/Documents/7.Research/Wilbrecht_Lab/madeline_analysis/data/'\n",
    "os.listdir(root_folder)\n",
    "hfile = os.path.join(root_folder, 'IT5_190212_plane0_nodecay.hdf5')\n",
    "hf = h5py.File(hfile, 'r')"
   ]
  },
  {
   "cell_type": "code",
   "execution_count": 9,
   "metadata": {},
   "outputs": [
    {
     "data": {
      "text/plain": [
       "(58, 9000)"
      ]
     },
     "execution_count": 9,
     "metadata": {},
     "output_type": "execute_result"
    }
   ],
   "source": [
    "C = np.array(hf['estimates/C'])\n",
    "C.shape"
   ]
  },
  {
   "cell_type": "code",
   "execution_count": 11,
   "metadata": {},
   "outputs": [
    {
     "data": {
      "text/plain": [
       "[<matplotlib.lines.Line2D at 0x12e982240>]"
      ]
     },
     "execution_count": 11,
     "metadata": {},
     "output_type": "execute_result"
    },
    {
     "data": {
      "image/png": "[encoded data removed]",
      "text/plain": [
       "<Figure size 432x288 with 1 Axes>"
      ]
     },
     "metadata": {
      "needs_background": "light"
     },
     "output_type": "display_data"
    }
   ],
   "source": [
    "import matplotlib.pyplot as plt\n",
    "plt.plot(C[0])"
   ]
  },
  {
   "cell_type": "code",
   "execution_count": 14,
   "metadata": {},
   "outputs": [],
   "source": [
    "def load_A(hf):\n",
    "    if 'estimates' in hf:\n",
    "        A = hf['estimates']['A']\n",
    "    else:\n",
    "        A = hf['Nsparse']\n",
    "    data = A['data']\n",
    "    indices = A['indices']\n",
    "    indptr = A['indptr']\n",
    "    return csc_matrix((data, indices, indptr), A['shape'])\n",
    "\n",
    "\n",
    "A = load_A(hf)"
   ]
  },
  {
   "cell_type": "code",
   "execution_count": 15,
   "metadata": {},
   "outputs": [
    {
     "data": {
      "text/plain": [
       "(65536, 58)"
      ]
     },
     "execution_count": 15,
     "metadata": {},
     "output_type": "execute_result"
    }
   ],
   "source": [
    "A.shape"
   ]
  },
  {
   "cell_type": "code",
   "execution_count": 19,
   "metadata": {},
   "outputs": [
    {
     "data": {
      "text/plain": [
       "<matplotlib.image.AxesImage at 0x13106e7f0>"
      ]
     },
     "execution_count": 19,
     "metadata": {},
     "output_type": "execute_result"
    },
    {
     "data": {
      "image/png": "[encoded data removed]",
      "text/plain": [
       "<Figure size 432x288 with 1 Axes>"
      ]
     },
     "metadata": {
      "needs_background": "light"
     },
     "output_type": "display_data"
    }
   ],
   "source": [
    "plt.imshow(A.toarray()[:, 17].reshape((256, 256), order='F'))"
   ]
  },
  {
   "cell_type": "markdown",
   "metadata": {},
   "source": [
    "#### Step3: process raw tif and output hdf5 file with interpretable output"
   ]
  },
  {
   "cell_type": "code",
   "execution_count": 8,
   "metadata": {},
   "outputs": [
    {
     "name": "stdout",
     "output_type": "stream",
     "text": [
      "found nodecay\n"
     ]
    }
   ],
   "source": [
    "merged_tiff = os.path.join(outpath, 'wlab_merge_nodecay.tif')\n",
    "fr=4\n",
    "while not os.path.exists(merged_tiff):\n",
    "    time.sleep(1)\n",
    "caiman_main(fr, fnames=[merged_tiff],out=os.path.join(outpath, 'merged_caiman_output.hdf5'))"
   ]
  }
 ],
 "metadata": {
  "kernelspec": {
   "display_name": "Python 3 (ipykernel)",
   "language": "python",
   "name": "python3"
  },
  "language_info": {
   "codemirror_mode": {
    "name": "ipython",
    "version": 3
   },
   "file_extension": ".py",
   "mimetype": "text/x-python",
   "name": "python",
   "nbconvert_exporter": "python",
   "pygments_lexer": "ipython3",
   "version": "3.7.11"
  }
 },
 "nbformat": 4,
 "nbformat_minor": 2
}
